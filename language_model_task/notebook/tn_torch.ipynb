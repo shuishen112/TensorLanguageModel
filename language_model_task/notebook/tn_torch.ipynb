{
 "cells": [
  {
   "cell_type": "code",
   "execution_count": 1,
   "metadata": {},
   "outputs": [],
   "source": [
    "import torch\n",
    "from torch import nn\n",
    "\n",
    "import numpy as np"
   ]
  },
  {
   "cell_type": "code",
   "execution_count": 2,
   "metadata": {},
   "outputs": [
    {
     "name": "stdout",
     "output_type": "stream",
     "text": [
      "['hey how are you', 'good i am fine', 'have a nice day']\n"
     ]
    }
   ],
   "source": [
    "text = ['hey how are you','good i am fine','have a nice day']\n",
    "# text = open(\"lm_data/clean.txt\").readlines()\n",
    "print(text)\n",
    "\n",
    "chars = set(''.join(text))\n",
    "int2char = dict(enumerate(chars))\n",
    "char2int = {char: ind for ind,char in int2char.items()}"
   ]
  },
  {
   "cell_type": "code",
   "execution_count": 3,
   "metadata": {},
   "outputs": [
    {
     "name": "stdout",
     "output_type": "stream",
     "text": [
      "The longest string has 15 characters\n"
     ]
    }
   ],
   "source": [
    "maxlen = len(max(text, key=len))\n",
    "print(\"The longest string has {} characters\".format(maxlen))"
   ]
  },
  {
   "cell_type": "code",
   "execution_count": 4,
   "metadata": {},
   "outputs": [],
   "source": [
    "# padding the text\n",
    "for i in range(len(text)):\n",
    "    while len(text[i]) < maxlen:\n",
    "        text[i] += ' '"
   ]
  },
  {
   "cell_type": "code",
   "execution_count": 5,
   "metadata": {},
   "outputs": [
    {
     "name": "stdout",
     "output_type": "stream",
     "text": [
      "Input Sequence:hey how are yo\n",
      " Target Sequence:u\n",
      "Input Sequence:good i am fine\n",
      " Target Sequence: \n",
      "Input Sequence:have a nice da\n",
      " Target Sequence:y\n"
     ]
    }
   ],
   "source": [
    "input_seq = []\n",
    "target_seq = []\n",
    "\n",
    "for i in range(len(text)):\n",
    "    # remove the first token\n",
    "\n",
    "    input_seq.append(text[i][:-1])\n",
    "    target_seq.append(text[i][-1])\n",
    "    print(\"Input Sequence:{}\\n Target Sequence:{}\".format(\n",
    "        input_seq[i],\n",
    "        target_seq[i]\n",
    "    ))"
   ]
  },
  {
   "cell_type": "code",
   "execution_count": 6,
   "metadata": {},
   "outputs": [],
   "source": [
    "for i in range(len(text)):\n",
    "    input_seq[i] = [char2int[character] for character in input_seq[i]]\n",
    "    target_seq[i] = [char2int[character] for character in target_seq[i]]"
   ]
  },
  {
   "cell_type": "code",
   "execution_count": 7,
   "metadata": {},
   "outputs": [],
   "source": [
    "dict_size = len(char2int)\n",
    "seq_len = maxlen - 1\n",
    "batch_size = len(text)\n",
    "\n",
    "def one_hot_encode(sequence,dict_size,seq_len,batch_size):\n",
    "    features = np.zeros((batch_size,seq_len,dict_size),dtype = np.float32)\n",
    "\n",
    "    for i in range(batch_size):\n",
    "        for u in range(seq_len):\n",
    "            features[i,u,sequence[i][u]] = 1\n",
    "    return features"
   ]
  },
  {
   "cell_type": "code",
   "execution_count": 8,
   "metadata": {},
   "outputs": [
    {
     "data": {
      "text/plain": [
       "tensor([[ 7.,  6., 16., 10.,  7., 13., 14., 10.,  2.,  8.,  6., 10., 16., 13.],\n",
       "        [ 1., 13., 13.,  3., 10., 12., 10.,  2.,  5., 10., 11., 12.,  9.,  6.],\n",
       "        [ 7.,  2.,  4.,  6., 10.,  2., 10.,  9., 12., 15.,  6., 10.,  3.,  2.]])"
      ]
     },
     "execution_count": 8,
     "metadata": {},
     "output_type": "execute_result"
    }
   ],
   "source": [
    "# input_seq_one_hot = one_hot_encode(input_seq,dict_size,seq_len,batch_size)\n",
    "# input_seq_one_hot = torch.from_numpy(input_seq_one_hot)\n",
    "\n",
    "input_seq = torch.Tensor(input_seq)\n",
    "input_seq\n"
   ]
  },
  {
   "cell_type": "code",
   "execution_count": 9,
   "metadata": {},
   "outputs": [
    {
     "name": "stdout",
     "output_type": "stream",
     "text": [
      "Input shape: torch.Size([3, 14]) --> (Batch Size, Sequence Length, One-Hot Encoding Size)\n"
     ]
    }
   ],
   "source": [
    "print(\"Input shape: {} --> (Batch Size, Sequence Length, One-Hot Encoding Size)\".format(input_seq.size()))"
   ]
  },
  {
   "cell_type": "code",
   "execution_count": 10,
   "metadata": {},
   "outputs": [
    {
     "data": {
      "text/plain": [
       "15D TT-Tucker tensor:\n",
       "\n",
       " 17  17  17  17  17  17  17  17  17  17  17  17  17  17  17\n",
       "  |   |   |   |   |   |   |   |   |   |   |   |   |   |   |\n",
       "  6   6   6   6   6   6   6   6   6   6   6   6   6   6   6\n",
       " (0) (1) (2) (3) (4) (5) (6) (7) (8) (9) (10)(11)(12)(13)(14)\n",
       " / \\ / \\ / \\ / \\ / \\ / \\ / \\ / \\ / \\ / \\ / \\ / \\ / \\ / \\ / \\\n",
       "1   10  10  10  10  10  10  10  10  10  10  10  10  10  10  1"
      ]
     },
     "execution_count": 10,
     "metadata": {},
     "output_type": "execute_result"
    }
   ],
   "source": [
    "# create tn\n",
    "import tntorch as tn\n",
    "import torch\n",
    "torch.set_default_dtype(torch.float64)\n",
    "t = tn.rand([17]*14 + [17], ranks_tt=10, ranks_tucker=6, requires_grad=True)\n",
    "t.set_factors('dct', dim=range(14))\n",
    "# input_seq_one_hot.view(-1,17).size()\n",
    "# t[input_seq].torch().size()\n",
    "t\n"
   ]
  },
  {
   "cell_type": "code",
   "execution_count": 11,
   "metadata": {},
   "outputs": [
    {
     "data": {
      "text/plain": [
       "2D TT-Tucker tensor:\n",
       "\n",
       "     17\n",
       "  3   |\n",
       "  |   6\n",
       " (0) (1)\n",
       " / \\ / \\\n",
       "1   10  1"
      ]
     },
     "execution_count": 11,
     "metadata": {},
     "output_type": "execute_result"
    }
   ],
   "source": [
    "t[input_seq]"
   ]
  },
  {
   "cell_type": "code",
   "execution_count": 12,
   "metadata": {},
   "outputs": [
    {
     "data": {
      "text/plain": [
       "tensor([ 0, 10, 16])"
      ]
     },
     "execution_count": 12,
     "metadata": {},
     "output_type": "execute_result"
    }
   ],
   "source": [
    "target_seq = torch.Tensor(target_seq)\n",
    "target_seq.size()\n",
    "target_seq = target_seq.squeeze(1).long()\n",
    "target_seq"
   ]
  },
  {
   "cell_type": "code",
   "execution_count": 13,
   "metadata": {},
   "outputs": [],
   "source": [
    "def softmax(x):\n",
    "    expx = torch.exp(x-x.max())\n",
    "    return expx / torch.sum(expx, dim=-1, keepdim=True)\n",
    "def cross_entropy_loss(probs, y):\n",
    "    return torch.mean(-torch.log(probs[np.arange(len(probs)), y]))"
   ]
  },
  {
   "cell_type": "code",
   "execution_count": 14,
   "metadata": {},
   "outputs": [
    {
     "name": "stdout",
     "output_type": "stream",
     "text": [
      "iter: 0       | loss:   2.976760 | total time:    0.0415\n",
      "iter: 92      | loss:   0.000053 | total time:    0.8763 <- converged (tol=0.0001)\n"
     ]
    }
   ],
   "source": [
    "def loss(t):\n",
    "    return cross_entropy_loss(softmax(t[input_seq].torch()), target_seq)\n",
    "tn.optimize(t, loss)"
   ]
  },
  {
   "cell_type": "code",
   "execution_count": 15,
   "metadata": {},
   "outputs": [
    {
     "name": "stdout",
     "output_type": "stream",
     "text": [
      "u\n",
      " \n",
      "y\n"
     ]
    }
   ],
   "source": [
    "prediction = torch.max(t[input_seq].torch(), dim=1)[1]\n",
    "for item in prediction:\n",
    "    print(int2char[item.item()])\n"
   ]
  },
  {
   "cell_type": "code",
   "execution_count": 16,
   "metadata": {},
   "outputs": [],
   "source": [
    "import torch\n",
    "\n"
   ]
  },
  {
   "cell_type": "code",
   "execution_count": null,
   "metadata": {},
   "outputs": [],
   "source": []
  }
 ],
 "metadata": {
  "interpreter": {
   "hash": "d8ed0073c41b023cdd22b6268c6b3f0c9b6d97a6234cf243afa672a36c79f6c6"
  },
  "kernelspec": {
   "display_name": "Python 3.9.5 ('base')",
   "language": "python",
   "name": "python3"
  },
  "language_info": {
   "codemirror_mode": {
    "name": "ipython",
    "version": 3
   },
   "file_extension": ".py",
   "mimetype": "text/x-python",
   "name": "python",
   "nbconvert_exporter": "python",
   "pygments_lexer": "ipython3",
   "version": "3.9.5"
  },
  "orig_nbformat": 4
 },
 "nbformat": 4,
 "nbformat_minor": 2
}
