{
 "cells": [
  {
   "cell_type": "code",
   "execution_count": 1,
   "metadata": {},
   "outputs": [],
   "source": [
    "import torch.nn as nn\n",
    "import torch"
   ]
  },
  {
   "cell_type": "code",
   "execution_count": 2,
   "metadata": {},
   "outputs": [
    {
     "data": {
      "text/plain": [
       "torch.Size([3, 3])"
      ]
     },
     "execution_count": 2,
     "metadata": {},
     "output_type": "execute_result"
    }
   ],
   "source": [
    "#  test indice of torch\n",
    "x = torch.randn(3, 4, 3)\n",
    "x[:,1,:].shape"
   ]
  },
  {
   "cell_type": "code",
   "execution_count": 89,
   "metadata": {},
   "outputs": [],
   "source": [
    "# tensornetwork LM\n",
    "\n",
    "class TN(nn.Module):\n",
    "    def __init__(self, rank = 10,vocab_size = 1000):\n",
    "        super().__init__()\n",
    "        self.r = rank\n",
    "        self.G = nn.Embedding(vocab_size,self.r * self.r)\n",
    "        self.G1 = nn.Linear(1,self.r)\n",
    "        self.linear = torch.nn.Linear(self.r,1)\n",
    "        self.vocab_size = vocab_size\n",
    "    def encoding(self,x):\n",
    "        batch_size,seq_length = x.shape[0],x.shape[1]\n",
    "        self.masked_token = self.G.weight.view(-1,self.vocab_size,self.r,self.r)\n",
    "        encoded = self.G(x)\n",
    "        encoded = encoded.view(batch_size, seq_length,self.r,self.r)\n",
    "        result = self.G1.weight.view(-1,self.r).unsqueeze(0).repeat([batch_size,1,1])\n",
    "        for i in range(seq_length):\n",
    "            if x[:,i] == 103:\n",
    "                result = torch.einsum(\"bij,bvjr->bvr\",[result,self.masked_token])\n",
    "            else:\n",
    "                result = torch.nn.functional.normalize(torch.einsum(\"bij,bjk->bik\",[result,encoded[:,i,:,:]]))\n",
    "        return result.squeeze()\n",
    "\n",
    "    def forward(self,x):\n",
    "        encoded_x = self.encoding(x)\n",
    "        return self.linear(encoded_x).squeeze()\n",
    "\n",
    "    def get_structure_penalty(self): # unitary or l2 loss\n",
    "        embedding = self.encoder.weight.view(-1,self.d,self.d)\n",
    "        embedding_transpose = embedding.transpose(-1,-2)\n",
    "        product = torch.bmm(embedding_transpose,embedding)\n",
    "        diff = torch.abs(product.mean(0).squeeze() -torch.eye(self.d,device=torch.device(\"cuda\" if torch.cuda.is_available() else \"cpu\")))\n",
    "        return torch.sum(diff)"
   ]
  },
  {
   "cell_type": "code",
   "execution_count": 90,
   "metadata": {},
   "outputs": [
    {
     "name": "stdout",
     "output_type": "stream",
     "text": [
      "torch.Size([1000])\n"
     ]
    }
   ],
   "source": [
    "device = torch.device('cuda') if torch.cuda.is_available() else torch.device('cpu')\n",
    "x = torch.tensor([1,2,3,103,5]).unsqueeze(0).to(device)\n",
    "x.shape\n",
    "\n",
    "model = TN(vocab_size = 1000,rank = 10)\n",
    "\n",
    "# and move our model over to the selected device\n",
    "model = model.cuda()\n",
    "\n",
    "result = model(x)\n",
    "print(result.shape)"
   ]
  },
  {
   "cell_type": "code",
   "execution_count": 1,
   "metadata": {},
   "outputs": [],
   "source": [
    "# #  test nn.embedding, it is G in our paper, make G is shared.\n",
    "# vocab_size = 1000\n",
    "# rank = 5\n",
    "# batch_size = 1\n",
    "# G = nn.Embedding(vocab_size,rank * rank)\n",
    "\n",
    "# masked_token = G.weight.view(-1,vocab_size,rank,rank)\n",
    "# print(masked_token.shape)\n",
    "\n",
    "# # G1 is a vecetor\n",
    "# G_1 = nn.Linear(1,rank)\n",
    "\n",
    "# # input x\n",
    "# x = torch.tensor([1,2,3,4,5])\n",
    "\n",
    "# embedding_x = G(x)\n",
    "# # reshape the embedding\n",
    "# embedding_x = embedding_x.view(-1,len(x),rank,rank)\n",
    "# print(embedding_x.shape)\n",
    "\n",
    "# # masked token\n",
    "# masked_index = 2\n",
    "# x[masked_index] = -100\n",
    "\n",
    "# print(\"x;\",x)\n",
    "\n",
    "# init_matrix = G_1.weight.view(-1,rank).unsqueeze(0).repeat([batch_size,1,1])\n",
    "\n",
    "# print(init_matrix.shape)\n",
    "\n",
    "# torch.bmm(init_matrix,embedding_x[:,1,:,:])\n",
    "\n",
    "# mask_mul = torch.einsum(\"bij,bvjr->bvr\",[init_matrix,masked_token])\n",
    "# print(\"mask_mul\",mask_mul.shape)\n",
    "# # test a sequence, assume a token is masked in our sentence. \n",
    "\n",
    "# result = init_matrix\n",
    "\n",
    "# print(\"result:\",result.shape)\n",
    "# for i in range(len(x)):\n",
    "#     if x[i] == -100:\n",
    "#         result = torch.einsum(\"bij,bvjr->bvr\",[result,masked_token])\n",
    "#     else:\n",
    "#         result = torch.einsum(\"bij,bjk->bik\",[result,embedding_x[:,i,:,:]])\n",
    "# print(result.shape)"
   ]
  },
  {
   "cell_type": "code",
   "execution_count": 6,
   "metadata": {},
   "outputs": [
    {
     "name": "stdout",
     "output_type": "stream",
     "text": [
      "30522\n"
     ]
    }
   ],
   "source": [
    "# 训练 tensor network language model\n",
    "\n",
    "from transformers import AutoConfig,AutoTokenizer\n",
    "config = AutoConfig.from_pretrained(\"bert-base-uncased\")\n",
    "tokenizer = AutoTokenizer.from_pretrained('bert-base-uncased')\n",
    "print(config.vocab_size)\n",
    "\n"
   ]
  },
  {
   "cell_type": "code",
   "execution_count": 7,
   "metadata": {},
   "outputs": [
    {
     "data": {
      "text/plain": [
       "['From my grandfather Verus I learned good morals and the government of my temper.',\n",
       " 'From the reputation and remembrance of my father, modesty and a manly character.',\n",
       " 'From my mother, piety and beneficence, and abstinence, not only from evil deeds, but even from evil thoughts; and further, simplicity in my way of living, far removed from the habits of the rich.',\n",
       " 'From my great-grandfather, not to have frequented public schools, and to have had good teachers at home, and to know that on such things a man should spend liberally.',\n",
       " \"From my governor, to be neither of the green nor of the blue party at the games in the Circus, nor a partizan either of the Parmularius or the Scutarius at the gladiators' fights; from him too I learned endurance of labour, and to want little, and to work with my own hands, and not to meddle with other people's affairs, and not to be ready to listen to slander.\"]"
      ]
     },
     "execution_count": 7,
     "metadata": {},
     "output_type": "execute_result"
    }
   ],
   "source": [
    "with open(\"lm_data/clean.txt\",'r') as fp:\n",
    "    text = fp.read().split(\"\\n\")\n",
    "\n",
    "text[:5]"
   ]
  },
  {
   "cell_type": "code",
   "execution_count": 9,
   "metadata": {},
   "outputs": [
    {
     "name": "stdout",
     "output_type": "stream",
     "text": [
      "Ignored unknown kwarg option direction\n"
     ]
    },
    {
     "data": {
      "text/plain": [
       "{'input_ids': tensor([[  101,  2013,  2026,  ...,     0,     0,     0],\n",
       "        [  101,  2013,  1996,  ...,     0,     0,     0],\n",
       "        [  101,  2013,  2026,  ...,     0,     0,     0],\n",
       "        ...,\n",
       "        [  101,  2122,  2093,  ...,     0,     0,     0],\n",
       "        [  101,  3459,  2185,  ...,     0,     0,     0],\n",
       "        [  101,  2043, 15223,  ...,     0,     0,     0]]), 'token_type_ids': tensor([[0, 0, 0,  ..., 0, 0, 0],\n",
       "        [0, 0, 0,  ..., 0, 0, 0],\n",
       "        [0, 0, 0,  ..., 0, 0, 0],\n",
       "        ...,\n",
       "        [0, 0, 0,  ..., 0, 0, 0],\n",
       "        [0, 0, 0,  ..., 0, 0, 0],\n",
       "        [0, 0, 0,  ..., 0, 0, 0]]), 'attention_mask': tensor([[1, 1, 1,  ..., 0, 0, 0],\n",
       "        [1, 1, 1,  ..., 0, 0, 0],\n",
       "        [1, 1, 1,  ..., 0, 0, 0],\n",
       "        ...,\n",
       "        [1, 1, 1,  ..., 0, 0, 0],\n",
       "        [1, 1, 1,  ..., 0, 0, 0],\n",
       "        [1, 1, 1,  ..., 0, 0, 0]])}"
      ]
     },
     "execution_count": 9,
     "metadata": {},
     "output_type": "execute_result"
    }
   ],
   "source": [
    "inputs = tokenizer(text, return_tensors='pt', max_length=512, truncation=True, padding='max_length')\n",
    "inputs"
   ]
  },
  {
   "cell_type": "code",
   "execution_count": 16,
   "metadata": {},
   "outputs": [
    {
     "data": {
      "text/plain": [
       "[404, 81, 442, 139, 26]"
      ]
     },
     "execution_count": 16,
     "metadata": {},
     "output_type": "execute_result"
    }
   ],
   "source": [
    "import random\n",
    "selection = random.sample(range(1, 512), inputs.input_ids.shape[0])\n",
    "selection[:5]"
   ]
  },
  {
   "cell_type": "code",
   "execution_count": 42,
   "metadata": {},
   "outputs": [
    {
     "data": {
      "text/plain": [
       "dict_keys(['input_ids', 'token_type_ids', 'attention_mask', 'labels'])"
      ]
     },
     "execution_count": 42,
     "metadata": {},
     "output_type": "execute_result"
    }
   ],
   "source": [
    "inputs['labels'] = torch.tensor(selection)\n",
    "inputs.keys()"
   ]
  },
  {
   "cell_type": "code",
   "execution_count": 43,
   "metadata": {},
   "outputs": [],
   "source": [
    "for i in range(inputs.input_ids.shape[0]):\n",
    "    inputs.input_ids[i, selection[i]] = 103\n",
    "# for i in inputs.input_ids:\n",
    "#     print(list(i).index(103))"
   ]
  },
  {
   "cell_type": "code",
   "execution_count": 44,
   "metadata": {},
   "outputs": [],
   "source": [
    "import torch\n",
    "class MeditationsDataset(torch.utils.data.Dataset):\n",
    "    def __init__(self, encodings):\n",
    "        self.encodings = encodings\n",
    "    def __getitem__(self, idx):\n",
    "        return {key: torch.tensor(val[idx]) for key, val in self.encodings.items()}\n",
    "    def __len__(self):\n",
    "        return len(self.encodings.input_ids)"
   ]
  },
  {
   "cell_type": "code",
   "execution_count": 45,
   "metadata": {},
   "outputs": [],
   "source": [
    "dataset = MeditationsDataset(inputs)\n"
   ]
  },
  {
   "cell_type": "code",
   "execution_count": 46,
   "metadata": {},
   "outputs": [],
   "source": [
    "loader = torch.utils.data.DataLoader(dataset, batch_size=1, shuffle=True)"
   ]
  },
  {
   "cell_type": "code",
   "execution_count": 91,
   "metadata": {},
   "outputs": [],
   "source": [
    "model = TN(vocab_size = config.vocab_size)"
   ]
  },
  {
   "cell_type": "code",
   "execution_count": 92,
   "metadata": {},
   "outputs": [
    {
     "data": {
      "text/plain": [
       "TN(\n",
       "  (G): Embedding(30522, 100)\n",
       "  (G1): Linear(in_features=1, out_features=10, bias=True)\n",
       "  (linear): Linear(in_features=10, out_features=1, bias=True)\n",
       ")"
      ]
     },
     "execution_count": 92,
     "metadata": {},
     "output_type": "execute_result"
    }
   ],
   "source": [
    "device = torch.device('cuda') if torch.cuda.is_available() else torch.device('cpu')\n",
    "# and move our model over to the selected device\n",
    "model.to(device)\n",
    "# activate training mode\n",
    "model.train()"
   ]
  },
  {
   "cell_type": "code",
   "execution_count": 41,
   "metadata": {},
   "outputs": [
    {
     "name": "stderr",
     "output_type": "stream",
     "text": [
      "/home/wzm289/miniconda3/lib/python3.9/site-packages/transformers/optimization.py:306: FutureWarning: This implementation of AdamW is deprecated and will be removed in a future version. Use thePyTorch implementation torch.optim.AdamW instead, or set `no_deprecation_warning=True` to disable this warning\n",
      "  warnings.warn(\n"
     ]
    }
   ],
   "source": [
    "from transformers import AdamW\n",
    "# initialize optimizer\n",
    "optim = AdamW(model.parameters(), lr=5e-5)"
   ]
  },
  {
   "cell_type": "code",
   "execution_count": 94,
   "metadata": {},
   "outputs": [
    {
     "name": "stderr",
     "output_type": "stream",
     "text": [
      "  0%|          | 0/506 [00:00<?, ?it/s]/tmp/ipykernel_1379340/1368166411.py:6: UserWarning: To copy construct from a tensor, it is recommended to use sourceTensor.clone().detach() or sourceTensor.clone().detach().requires_grad_(True), rather than torch.tensor(sourceTensor).\n",
      "  return {key: torch.tensor(val[idx]) for key, val in self.encodings.items()}\n"
     ]
    },
    {
     "name": "stdout",
     "output_type": "stream",
     "text": [
      "tensor([0.1953, 0.1971, 0.1990,  ..., 0.1955, 0.1964, 0.1977], device='cuda:0',\n",
      "       grad_fn=<SqueezeBackward0>)\n"
     ]
    },
    {
     "name": "stderr",
     "output_type": "stream",
     "text": [
      "Epoch 0:   0%|          | 1/506 [00:00<03:40,  2.29it/s, loss=10.3]"
     ]
    },
    {
     "name": "stdout",
     "output_type": "stream",
     "text": [
      "tensor([0.1977, 0.1957, 0.1952,  ..., 0.1957, 0.1974, 0.1944], device='cuda:0',\n",
      "       grad_fn=<SqueezeBackward0>)\n"
     ]
    },
    {
     "name": "stderr",
     "output_type": "stream",
     "text": [
      "Epoch 0:   0%|          | 2/506 [00:00<03:44,  2.25it/s, loss=10.3]"
     ]
    },
    {
     "name": "stdout",
     "output_type": "stream",
     "text": [
      "tensor([0.1958, 0.1965, 0.1965,  ..., 0.1973, 0.1966, 0.1966], device='cuda:0',\n",
      "       grad_fn=<SqueezeBackward0>)\n"
     ]
    },
    {
     "name": "stderr",
     "output_type": "stream",
     "text": [
      "Epoch 0:   1%|          | 3/506 [00:01<03:48,  2.20it/s, loss=10.3]"
     ]
    },
    {
     "name": "stdout",
     "output_type": "stream",
     "text": [
      "tensor([0.1966, 0.1969, 0.1982,  ..., 0.1972, 0.1967, 0.1984], device='cuda:0',\n",
      "       grad_fn=<SqueezeBackward0>)\n"
     ]
    },
    {
     "name": "stderr",
     "output_type": "stream",
     "text": [
      "Epoch 0:   1%|          | 4/506 [00:01<03:49,  2.19it/s, loss=10.3]"
     ]
    },
    {
     "name": "stdout",
     "output_type": "stream",
     "text": [
      "tensor([0.1971, 0.1978, 0.1966,  ..., 0.1972, 0.1996, 0.1960], device='cuda:0',\n",
      "       grad_fn=<SqueezeBackward0>)\n"
     ]
    },
    {
     "name": "stderr",
     "output_type": "stream",
     "text": [
      "Epoch 0:   1%|          | 5/506 [00:02<03:50,  2.17it/s, loss=10.3]"
     ]
    },
    {
     "name": "stdout",
     "output_type": "stream",
     "text": [
      "tensor([0.1975, 0.1955, 0.1964,  ..., 0.1981, 0.1971, 0.1979], device='cuda:0',\n",
      "       grad_fn=<SqueezeBackward0>)\n"
     ]
    },
    {
     "name": "stderr",
     "output_type": "stream",
     "text": [
      "Epoch 0:   1%|          | 6/506 [00:02<03:53,  2.14it/s, loss=10.3]"
     ]
    },
    {
     "name": "stdout",
     "output_type": "stream",
     "text": [
      "tensor([0.1967, 0.1973, 0.1986,  ..., 0.1964, 0.1963, 0.1980], device='cuda:0',\n",
      "       grad_fn=<SqueezeBackward0>)\n"
     ]
    },
    {
     "name": "stderr",
     "output_type": "stream",
     "text": [
      "Epoch 0:   1%|▏         | 7/506 [00:03<03:54,  2.13it/s, loss=10.3]"
     ]
    },
    {
     "name": "stdout",
     "output_type": "stream",
     "text": [
      "tensor([0.1973, 0.1979, 0.1965,  ..., 0.1983, 0.1997, 0.1974], device='cuda:0',\n",
      "       grad_fn=<SqueezeBackward0>)\n"
     ]
    },
    {
     "name": "stderr",
     "output_type": "stream",
     "text": [
      "Epoch 0:   2%|▏         | 8/506 [00:03<03:54,  2.12it/s, loss=10.3]"
     ]
    },
    {
     "name": "stdout",
     "output_type": "stream",
     "text": [
      "tensor([0.1964, 0.1977, 0.1967,  ..., 0.1997, 0.1983, 0.1973], device='cuda:0',\n",
      "       grad_fn=<SqueezeBackward0>)\n"
     ]
    },
    {
     "name": "stderr",
     "output_type": "stream",
     "text": [
      "Epoch 0:   2%|▏         | 9/506 [00:04<03:52,  2.14it/s, loss=10.3]"
     ]
    },
    {
     "name": "stdout",
     "output_type": "stream",
     "text": [
      "tensor([0.1959, 0.1951, 0.1964,  ..., 0.1997, 0.1944, 0.1987], device='cuda:0',\n",
      "       grad_fn=<SqueezeBackward0>)\n"
     ]
    },
    {
     "name": "stderr",
     "output_type": "stream",
     "text": [
      "Epoch 0:   2%|▏         | 10/506 [00:04<03:52,  2.13it/s, loss=10.3]"
     ]
    },
    {
     "name": "stdout",
     "output_type": "stream",
     "text": [
      "tensor([0.1988, 0.1982, 0.1985,  ..., 0.1930, 0.1993, 0.1961], device='cuda:0',\n",
      "       grad_fn=<SqueezeBackward0>)\n"
     ]
    },
    {
     "name": "stderr",
     "output_type": "stream",
     "text": [
      "Epoch 0:   2%|▏         | 11/506 [00:05<03:51,  2.14it/s, loss=10.3]"
     ]
    },
    {
     "name": "stdout",
     "output_type": "stream",
     "text": [
      "tensor([0.1969, 0.1959, 0.1987,  ..., 0.1963, 0.1974, 0.1969], device='cuda:0',\n",
      "       grad_fn=<SqueezeBackward0>)\n"
     ]
    },
    {
     "name": "stderr",
     "output_type": "stream",
     "text": [
      "Epoch 0:   2%|▏         | 12/506 [00:05<03:55,  2.10it/s, loss=10.3]"
     ]
    },
    {
     "name": "stdout",
     "output_type": "stream",
     "text": [
      "tensor([0.1956, 0.1957, 0.1985,  ..., 0.1936, 0.1959, 0.1954], device='cuda:0',\n",
      "       grad_fn=<SqueezeBackward0>)\n"
     ]
    },
    {
     "name": "stderr",
     "output_type": "stream",
     "text": [
      "Epoch 0:   3%|▎         | 13/506 [00:06<03:59,  2.05it/s, loss=10.3]"
     ]
    },
    {
     "name": "stdout",
     "output_type": "stream",
     "text": [
      "tensor([0.1986, 0.1957, 0.1954,  ..., 0.2017, 0.1940, 0.1990], device='cuda:0',\n",
      "       grad_fn=<SqueezeBackward0>)\n"
     ]
    },
    {
     "name": "stderr",
     "output_type": "stream",
     "text": [
      "Epoch 0:   3%|▎         | 14/506 [00:06<04:00,  2.05it/s, loss=10.3]"
     ]
    },
    {
     "name": "stdout",
     "output_type": "stream",
     "text": [
      "tensor([0.1982, 0.1961, 0.1969,  ..., 0.1950, 0.1995, 0.1961], device='cuda:0',\n",
      "       grad_fn=<SqueezeBackward0>)\n"
     ]
    },
    {
     "name": "stderr",
     "output_type": "stream",
     "text": [
      "Epoch 0:   3%|▎         | 15/506 [00:07<04:04,  2.01it/s, loss=10.3]"
     ]
    },
    {
     "name": "stdout",
     "output_type": "stream",
     "text": [
      "tensor([0.1948, 0.1963, 0.1992,  ..., 0.1957, 0.1956, 0.1962], device='cuda:0',\n",
      "       grad_fn=<SqueezeBackward0>)\n"
     ]
    },
    {
     "name": "stderr",
     "output_type": "stream",
     "text": [
      "Epoch 0:   3%|▎         | 16/506 [00:07<04:05,  2.00it/s, loss=10.3]"
     ]
    },
    {
     "name": "stdout",
     "output_type": "stream",
     "text": [
      "tensor([0.1968, 0.1970, 0.1965,  ..., 0.1988, 0.1941, 0.1980], device='cuda:0',\n",
      "       grad_fn=<SqueezeBackward0>)\n"
     ]
    },
    {
     "name": "stderr",
     "output_type": "stream",
     "text": [
      "Epoch 0:   3%|▎         | 17/506 [00:08<04:04,  2.00it/s, loss=10.3]"
     ]
    },
    {
     "name": "stdout",
     "output_type": "stream",
     "text": [
      "tensor([0.1987, 0.1989, 0.1980,  ..., 0.1935, 0.2002, 0.1954], device='cuda:0',\n",
      "       grad_fn=<SqueezeBackward0>)\n"
     ]
    },
    {
     "name": "stderr",
     "output_type": "stream",
     "text": [
      "Epoch 0:   4%|▎         | 18/506 [00:08<04:00,  2.03it/s, loss=10.3]"
     ]
    },
    {
     "name": "stdout",
     "output_type": "stream",
     "text": [
      "tensor([0.1971, 0.1952, 0.1949,  ..., 0.1991, 0.1976, 0.1972], device='cuda:0',\n",
      "       grad_fn=<SqueezeBackward0>)\n"
     ]
    },
    {
     "name": "stderr",
     "output_type": "stream",
     "text": [
      "Epoch 0:   4%|▍         | 19/506 [00:09<03:59,  2.03it/s, loss=10.3]"
     ]
    },
    {
     "name": "stdout",
     "output_type": "stream",
     "text": [
      "tensor([0.1958, 0.1982, 0.1995,  ..., 0.1931, 0.1980, 0.1957], device='cuda:0',\n",
      "       grad_fn=<SqueezeBackward0>)\n"
     ]
    },
    {
     "name": "stderr",
     "output_type": "stream",
     "text": [
      "Epoch 0:   4%|▍         | 20/506 [00:09<03:56,  2.06it/s, loss=10.3]"
     ]
    },
    {
     "name": "stdout",
     "output_type": "stream",
     "text": [
      "tensor([0.1955, 0.1970, 0.1970,  ..., 0.1979, 0.1967, 0.1969], device='cuda:0',\n",
      "       grad_fn=<SqueezeBackward0>)\n"
     ]
    },
    {
     "name": "stderr",
     "output_type": "stream",
     "text": [
      "Epoch 0:   4%|▍         | 21/506 [00:10<03:57,  2.04it/s, loss=10.3]"
     ]
    },
    {
     "name": "stdout",
     "output_type": "stream",
     "text": [
      "tensor([0.1953, 0.1976, 0.1977,  ..., 0.1990, 0.1949, 0.1973], device='cuda:0',\n",
      "       grad_fn=<SqueezeBackward0>)\n"
     ]
    },
    {
     "name": "stderr",
     "output_type": "stream",
     "text": [
      "Epoch 0:   4%|▍         | 22/506 [00:10<03:54,  2.06it/s, loss=10.3]"
     ]
    },
    {
     "name": "stdout",
     "output_type": "stream",
     "text": [
      "tensor([0.1955, 0.1974, 0.1982,  ..., 0.1959, 0.1986, 0.1946], device='cuda:0',\n",
      "       grad_fn=<SqueezeBackward0>)\n"
     ]
    },
    {
     "name": "stderr",
     "output_type": "stream",
     "text": [
      "Epoch 0:   5%|▍         | 23/506 [00:11<03:54,  2.06it/s, loss=10.3]"
     ]
    },
    {
     "name": "stdout",
     "output_type": "stream",
     "text": [
      "tensor([0.1955, 0.1958, 0.1961,  ..., 0.1993, 0.1978, 0.1966], device='cuda:0',\n",
      "       grad_fn=<SqueezeBackward0>)\n"
     ]
    },
    {
     "name": "stderr",
     "output_type": "stream",
     "text": [
      "Epoch 0:   5%|▍         | 24/506 [00:11<03:56,  2.04it/s, loss=10.3]"
     ]
    },
    {
     "name": "stdout",
     "output_type": "stream",
     "text": [
      "tensor([0.1971, 0.1974, 0.1964,  ..., 0.1953, 0.1973, 0.1975], device='cuda:0',\n",
      "       grad_fn=<SqueezeBackward0>)\n"
     ]
    },
    {
     "name": "stderr",
     "output_type": "stream",
     "text": [
      "Epoch 0:   5%|▍         | 25/506 [00:12<03:56,  2.03it/s, loss=10.3]"
     ]
    },
    {
     "name": "stdout",
     "output_type": "stream",
     "text": [
      "tensor([0.1971, 0.1964, 0.1965,  ..., 0.1989, 0.1963, 0.1986], device='cuda:0',\n",
      "       grad_fn=<SqueezeBackward0>)\n"
     ]
    },
    {
     "name": "stderr",
     "output_type": "stream",
     "text": [
      "Epoch 0:   5%|▌         | 26/506 [00:12<04:01,  1.99it/s, loss=10.3]"
     ]
    },
    {
     "name": "stdout",
     "output_type": "stream",
     "text": [
      "tensor([0.1976, 0.2004, 0.1958,  ..., 0.1956, 0.1986, 0.1966], device='cuda:0',\n",
      "       grad_fn=<SqueezeBackward0>)\n"
     ]
    },
    {
     "name": "stderr",
     "output_type": "stream",
     "text": [
      "Epoch 0:   5%|▌         | 27/506 [00:13<04:03,  1.96it/s, loss=10.3]"
     ]
    },
    {
     "name": "stdout",
     "output_type": "stream",
     "text": [
      "tensor([0.1977, 0.1957, 0.1944,  ..., 0.1985, 0.1970, 0.1969], device='cuda:0',\n",
      "       grad_fn=<SqueezeBackward0>)\n"
     ]
    },
    {
     "name": "stderr",
     "output_type": "stream",
     "text": [
      "Epoch 0:   6%|▌         | 28/506 [00:13<03:59,  1.99it/s, loss=10.3]"
     ]
    },
    {
     "name": "stdout",
     "output_type": "stream",
     "text": [
      "tensor([0.1964, 0.1993, 0.1961,  ..., 0.1977, 0.1958, 0.1973], device='cuda:0',\n",
      "       grad_fn=<SqueezeBackward0>)\n"
     ]
    },
    {
     "name": "stderr",
     "output_type": "stream",
     "text": [
      "Epoch 0:   6%|▌         | 29/506 [00:14<03:56,  2.02it/s, loss=10.3]"
     ]
    },
    {
     "name": "stdout",
     "output_type": "stream",
     "text": [
      "tensor([0.1983, 0.1953, 0.1954,  ..., 0.1988, 0.1952, 0.1975], device='cuda:0',\n",
      "       grad_fn=<SqueezeBackward0>)\n"
     ]
    },
    {
     "name": "stderr",
     "output_type": "stream",
     "text": [
      "Epoch 0:   6%|▌         | 30/506 [00:14<03:52,  2.04it/s, loss=10.3]"
     ]
    },
    {
     "name": "stdout",
     "output_type": "stream",
     "text": [
      "tensor([0.2005, 0.1975, 0.1969,  ..., 0.1964, 0.1983, 0.1965], device='cuda:0',\n",
      "       grad_fn=<SqueezeBackward0>)\n"
     ]
    },
    {
     "name": "stderr",
     "output_type": "stream",
     "text": [
      "Epoch 0:   6%|▌         | 31/506 [00:15<03:53,  2.03it/s, loss=10.3]"
     ]
    },
    {
     "name": "stdout",
     "output_type": "stream",
     "text": [
      "tensor([0.1961, 0.1953, 0.1968,  ..., 0.1983, 0.1978, 0.1972], device='cuda:0',\n",
      "       grad_fn=<SqueezeBackward0>)\n"
     ]
    },
    {
     "name": "stderr",
     "output_type": "stream",
     "text": [
      "Epoch 0:   6%|▋         | 32/506 [00:15<03:57,  1.99it/s, loss=10.3]"
     ]
    },
    {
     "name": "stdout",
     "output_type": "stream",
     "text": [
      "tensor([0.1967, 0.1979, 0.1959,  ..., 0.1987, 0.1986, 0.1963], device='cuda:0',\n",
      "       grad_fn=<SqueezeBackward0>)\n"
     ]
    },
    {
     "name": "stderr",
     "output_type": "stream",
     "text": [
      "Epoch 0:   7%|▋         | 33/506 [00:16<03:55,  2.01it/s, loss=10.3]"
     ]
    },
    {
     "name": "stdout",
     "output_type": "stream",
     "text": [
      "tensor([0.1975, 0.1983, 0.1961,  ..., 0.1990, 0.1990, 0.1978], device='cuda:0',\n",
      "       grad_fn=<SqueezeBackward0>)\n"
     ]
    },
    {
     "name": "stderr",
     "output_type": "stream",
     "text": [
      "Epoch 0:   7%|▋         | 34/506 [00:16<03:55,  2.01it/s, loss=10.3]"
     ]
    },
    {
     "name": "stdout",
     "output_type": "stream",
     "text": [
      "tensor([0.1957, 0.1975, 0.1966,  ..., 0.1962, 0.1976, 0.1972], device='cuda:0',\n",
      "       grad_fn=<SqueezeBackward0>)\n"
     ]
    },
    {
     "name": "stderr",
     "output_type": "stream",
     "text": [
      "Epoch 0:   7%|▋         | 35/506 [00:17<03:58,  1.97it/s, loss=10.3]"
     ]
    },
    {
     "name": "stdout",
     "output_type": "stream",
     "text": [
      "tensor([0.1976, 0.1971, 0.1971,  ..., 0.1956, 0.2004, 0.1966], device='cuda:0',\n",
      "       grad_fn=<SqueezeBackward0>)\n"
     ]
    },
    {
     "name": "stderr",
     "output_type": "stream",
     "text": [
      "Epoch 0:   7%|▋         | 36/506 [00:17<03:55,  2.00it/s, loss=10.3]"
     ]
    },
    {
     "name": "stdout",
     "output_type": "stream",
     "text": [
      "tensor([0.1942, 0.1967, 0.2003,  ..., 0.1967, 0.1965, 0.1968], device='cuda:0',\n",
      "       grad_fn=<SqueezeBackward0>)\n"
     ]
    },
    {
     "name": "stderr",
     "output_type": "stream",
     "text": [
      "Epoch 0:   7%|▋         | 37/506 [00:18<03:53,  2.01it/s, loss=10.3]"
     ]
    },
    {
     "name": "stdout",
     "output_type": "stream",
     "text": [
      "tensor([0.1959, 0.1968, 0.1975,  ..., 0.1963, 0.1966, 0.1976], device='cuda:0',\n",
      "       grad_fn=<SqueezeBackward0>)\n"
     ]
    },
    {
     "name": "stderr",
     "output_type": "stream",
     "text": [
      "Epoch 0:   8%|▊         | 38/506 [00:18<03:53,  2.00it/s, loss=10.3]"
     ]
    },
    {
     "name": "stdout",
     "output_type": "stream",
     "text": [
      "tensor([0.1971, 0.1950, 0.1984,  ..., 0.1964, 0.1996, 0.1970], device='cuda:0',\n",
      "       grad_fn=<SqueezeBackward0>)\n"
     ]
    },
    {
     "name": "stderr",
     "output_type": "stream",
     "text": [
      "Epoch 0:   8%|▊         | 39/506 [00:19<03:56,  1.98it/s, loss=10.3]"
     ]
    },
    {
     "name": "stdout",
     "output_type": "stream",
     "text": [
      "tensor([0.1951, 0.1979, 0.2004,  ..., 0.1950, 0.1964, 0.1966], device='cuda:0',\n",
      "       grad_fn=<SqueezeBackward0>)\n"
     ]
    },
    {
     "name": "stderr",
     "output_type": "stream",
     "text": [
      "Epoch 0:   8%|▊         | 40/506 [00:19<03:59,  1.95it/s, loss=10.3]"
     ]
    },
    {
     "name": "stdout",
     "output_type": "stream",
     "text": [
      "tensor([0.1967, 0.1984, 0.1949,  ..., 0.1984, 0.1966, 0.1979], device='cuda:0',\n",
      "       grad_fn=<SqueezeBackward0>)\n"
     ]
    },
    {
     "name": "stderr",
     "output_type": "stream",
     "text": [
      "Epoch 0:   8%|▊         | 41/506 [00:20<04:00,  1.93it/s, loss=10.3]"
     ]
    },
    {
     "name": "stdout",
     "output_type": "stream",
     "text": [
      "tensor([0.1963, 0.1948, 0.1980,  ..., 0.1970, 0.1965, 0.1948], device='cuda:0',\n",
      "       grad_fn=<SqueezeBackward0>)\n"
     ]
    },
    {
     "name": "stderr",
     "output_type": "stream",
     "text": [
      "Epoch 0:   8%|▊         | 42/506 [00:20<04:00,  1.93it/s, loss=10.3]"
     ]
    },
    {
     "name": "stdout",
     "output_type": "stream",
     "text": [
      "tensor([0.1970, 0.1956, 0.1979,  ..., 0.1950, 0.1970, 0.1968], device='cuda:0',\n",
      "       grad_fn=<SqueezeBackward0>)\n"
     ]
    },
    {
     "name": "stderr",
     "output_type": "stream",
     "text": [
      "Epoch 0:   8%|▊         | 43/506 [00:21<03:55,  1.96it/s, loss=10.3]"
     ]
    },
    {
     "name": "stdout",
     "output_type": "stream",
     "text": [
      "tensor([0.1948, 0.1965, 0.1980,  ..., 0.1987, 0.1969, 0.1959], device='cuda:0',\n",
      "       grad_fn=<SqueezeBackward0>)\n"
     ]
    },
    {
     "name": "stderr",
     "output_type": "stream",
     "text": [
      "Epoch 0:   9%|▊         | 44/506 [00:21<03:53,  1.98it/s, loss=10.3]"
     ]
    },
    {
     "name": "stdout",
     "output_type": "stream",
     "text": [
      "tensor([0.1987, 0.1981, 0.1979,  ..., 0.1948, 0.1971, 0.1976], device='cuda:0',\n",
      "       grad_fn=<SqueezeBackward0>)\n"
     ]
    },
    {
     "name": "stderr",
     "output_type": "stream",
     "text": [
      "Epoch 0:   9%|▉         | 45/506 [00:22<03:54,  1.97it/s, loss=10.3]"
     ]
    },
    {
     "name": "stdout",
     "output_type": "stream",
     "text": [
      "tensor([0.1963, 0.1961, 0.1974,  ..., 0.1972, 0.1948, 0.1969], device='cuda:0',\n",
      "       grad_fn=<SqueezeBackward0>)\n"
     ]
    },
    {
     "name": "stderr",
     "output_type": "stream",
     "text": [
      "Epoch 0:   9%|▉         | 46/506 [00:22<03:54,  1.96it/s, loss=10.3]"
     ]
    },
    {
     "name": "stdout",
     "output_type": "stream",
     "text": [
      "tensor([0.1977, 0.1973, 0.1980,  ..., 0.1965, 0.1979, 0.1966], device='cuda:0',\n",
      "       grad_fn=<SqueezeBackward0>)\n"
     ]
    },
    {
     "name": "stderr",
     "output_type": "stream",
     "text": [
      "Epoch 0:   9%|▉         | 47/506 [00:23<03:55,  1.95it/s, loss=10.3]"
     ]
    },
    {
     "name": "stdout",
     "output_type": "stream",
     "text": [
      "tensor([0.1976, 0.1964, 0.1982,  ..., 0.1960, 0.1962, 0.1980], device='cuda:0',\n",
      "       grad_fn=<SqueezeBackward0>)\n"
     ]
    },
    {
     "name": "stderr",
     "output_type": "stream",
     "text": [
      "Epoch 0:   9%|▉         | 48/506 [00:23<03:51,  1.98it/s, loss=10.3]"
     ]
    },
    {
     "name": "stdout",
     "output_type": "stream",
     "text": [
      "tensor([0.1969, 0.1978, 0.1972,  ..., 0.1956, 0.1986, 0.1952], device='cuda:0',\n",
      "       grad_fn=<SqueezeBackward0>)\n"
     ]
    },
    {
     "name": "stderr",
     "output_type": "stream",
     "text": [
      "Epoch 0:  10%|▉         | 49/506 [00:24<03:46,  2.01it/s, loss=10.3]"
     ]
    },
    {
     "name": "stdout",
     "output_type": "stream",
     "text": [
      "tensor([0.1960, 0.1983, 0.1956,  ..., 0.1981, 0.1969, 0.1980], device='cuda:0',\n",
      "       grad_fn=<SqueezeBackward0>)\n"
     ]
    },
    {
     "name": "stderr",
     "output_type": "stream",
     "text": [
      "Epoch 0:  10%|▉         | 50/506 [00:24<03:47,  2.01it/s, loss=10.3]"
     ]
    },
    {
     "name": "stdout",
     "output_type": "stream",
     "text": [
      "tensor([0.1987, 0.1966, 0.1975,  ..., 0.1954, 0.1965, 0.1964], device='cuda:0',\n",
      "       grad_fn=<SqueezeBackward0>)\n"
     ]
    },
    {
     "name": "stderr",
     "output_type": "stream",
     "text": [
      "Epoch 0:  10%|█         | 51/506 [00:25<03:48,  1.99it/s, loss=10.3]"
     ]
    },
    {
     "name": "stdout",
     "output_type": "stream",
     "text": [
      "tensor([0.1975, 0.1963, 0.1973,  ..., 0.1938, 0.1971, 0.1964], device='cuda:0',\n",
      "       grad_fn=<SqueezeBackward0>)\n"
     ]
    },
    {
     "name": "stderr",
     "output_type": "stream",
     "text": [
      "Epoch 0:  10%|█         | 52/506 [00:25<03:44,  2.02it/s, loss=10.3]"
     ]
    },
    {
     "name": "stdout",
     "output_type": "stream",
     "text": [
      "tensor([0.1968, 0.1980, 0.1969,  ..., 0.1959, 0.1986, 0.1951], device='cuda:0',\n",
      "       grad_fn=<SqueezeBackward0>)\n"
     ]
    },
    {
     "name": "stderr",
     "output_type": "stream",
     "text": [
      "Epoch 0:  10%|█         | 53/506 [00:26<03:39,  2.06it/s, loss=10.3]"
     ]
    },
    {
     "name": "stdout",
     "output_type": "stream",
     "text": [
      "tensor([0.1997, 0.1974, 0.1960,  ..., 0.1940, 0.1971, 0.1956], device='cuda:0',\n",
      "       grad_fn=<SqueezeBackward0>)\n"
     ]
    },
    {
     "name": "stderr",
     "output_type": "stream",
     "text": [
      "Epoch 0:  11%|█         | 54/506 [00:26<03:35,  2.10it/s, loss=10.3]"
     ]
    },
    {
     "name": "stdout",
     "output_type": "stream",
     "text": [
      "tensor([0.1953, 0.1957, 0.1984,  ..., 0.1980, 0.1944, 0.1952], device='cuda:0',\n",
      "       grad_fn=<SqueezeBackward0>)\n"
     ]
    },
    {
     "name": "stderr",
     "output_type": "stream",
     "text": [
      "Epoch 0:  11%|█         | 55/506 [00:27<03:34,  2.10it/s, loss=10.3]"
     ]
    },
    {
     "name": "stdout",
     "output_type": "stream",
     "text": [
      "tensor([0.1976, 0.1986, 0.1967,  ..., 0.1981, 0.1979, 0.1985], device='cuda:0',\n",
      "       grad_fn=<SqueezeBackward0>)\n"
     ]
    },
    {
     "name": "stderr",
     "output_type": "stream",
     "text": [
      "Epoch 0:  11%|█         | 56/506 [00:27<03:34,  2.10it/s, loss=10.3]"
     ]
    },
    {
     "name": "stdout",
     "output_type": "stream",
     "text": [
      "tensor([0.1958, 0.1971, 0.1981,  ..., 0.1962, 0.1988, 0.1976], device='cuda:0',\n",
      "       grad_fn=<SqueezeBackward0>)\n"
     ]
    },
    {
     "name": "stderr",
     "output_type": "stream",
     "text": [
      "Epoch 0:  11%|█▏        | 57/506 [00:27<03:34,  2.10it/s, loss=10.3]"
     ]
    },
    {
     "name": "stdout",
     "output_type": "stream",
     "text": [
      "tensor([0.1995, 0.1966, 0.1936,  ..., 0.1946, 0.1961, 0.1979], device='cuda:0',\n",
      "       grad_fn=<SqueezeBackward0>)\n"
     ]
    },
    {
     "name": "stderr",
     "output_type": "stream",
     "text": [
      "Epoch 0:  11%|█▏        | 58/506 [00:28<03:34,  2.09it/s, loss=10.3]"
     ]
    },
    {
     "name": "stdout",
     "output_type": "stream",
     "text": [
      "tensor([0.1958, 0.1958, 0.1946,  ..., 0.1971, 0.1963, 0.1976], device='cuda:0',\n",
      "       grad_fn=<SqueezeBackward0>)\n"
     ]
    },
    {
     "name": "stderr",
     "output_type": "stream",
     "text": [
      "Epoch 0:  12%|█▏        | 59/506 [00:28<03:33,  2.09it/s, loss=10.3]"
     ]
    },
    {
     "name": "stdout",
     "output_type": "stream",
     "text": [
      "tensor([0.1996, 0.1956, 0.1954,  ..., 0.1974, 0.1976, 0.1984], device='cuda:0',\n",
      "       grad_fn=<SqueezeBackward0>)\n"
     ]
    },
    {
     "name": "stderr",
     "output_type": "stream",
     "text": [
      "Epoch 0:  12%|█▏        | 60/506 [00:29<03:34,  2.08it/s, loss=10.3]"
     ]
    },
    {
     "name": "stdout",
     "output_type": "stream",
     "text": [
      "tensor([0.1981, 0.1995, 0.1954,  ..., 0.1948, 0.1966, 0.1972], device='cuda:0',\n",
      "       grad_fn=<SqueezeBackward0>)\n"
     ]
    },
    {
     "name": "stderr",
     "output_type": "stream",
     "text": [
      "Epoch 0:  12%|█▏        | 61/506 [00:29<03:34,  2.07it/s, loss=10.3]"
     ]
    },
    {
     "name": "stdout",
     "output_type": "stream",
     "text": [
      "tensor([0.1969, 0.1969, 0.1966,  ..., 0.1968, 0.1978, 0.1980], device='cuda:0',\n",
      "       grad_fn=<SqueezeBackward0>)\n"
     ]
    },
    {
     "name": "stderr",
     "output_type": "stream",
     "text": [
      "Epoch 0:  12%|█▏        | 62/506 [00:30<03:28,  2.13it/s, loss=10.3]"
     ]
    },
    {
     "name": "stdout",
     "output_type": "stream",
     "text": [
      "tensor([0.1975, 0.1970, 0.1962,  ..., 0.1965, 0.1972, 0.1976], device='cuda:0',\n",
      "       grad_fn=<SqueezeBackward0>)\n"
     ]
    },
    {
     "name": "stderr",
     "output_type": "stream",
     "text": [
      "Epoch 0:  12%|█▏        | 63/506 [00:30<03:26,  2.15it/s, loss=10.3]"
     ]
    },
    {
     "name": "stdout",
     "output_type": "stream",
     "text": [
      "tensor([0.1988, 0.1972, 0.1960,  ..., 0.1975, 0.1959, 0.1966], device='cuda:0',\n",
      "       grad_fn=<SqueezeBackward0>)\n"
     ]
    },
    {
     "name": "stderr",
     "output_type": "stream",
     "text": [
      "Epoch 0:  13%|█▎        | 64/506 [00:31<03:25,  2.15it/s, loss=10.3]"
     ]
    },
    {
     "name": "stdout",
     "output_type": "stream",
     "text": [
      "tensor([0.1964, 0.1971, 0.1965,  ..., 0.1965, 0.1984, 0.1948], device='cuda:0',\n",
      "       grad_fn=<SqueezeBackward0>)\n"
     ]
    },
    {
     "name": "stderr",
     "output_type": "stream",
     "text": [
      "Epoch 0:  13%|█▎        | 65/506 [00:31<03:23,  2.17it/s, loss=10.3]"
     ]
    },
    {
     "name": "stdout",
     "output_type": "stream",
     "text": [
      "tensor([0.1973, 0.1966, 0.1975,  ..., 0.1952, 0.1931, 0.1943], device='cuda:0',\n",
      "       grad_fn=<SqueezeBackward0>)\n"
     ]
    },
    {
     "name": "stderr",
     "output_type": "stream",
     "text": [
      "Epoch 0:  13%|█▎        | 66/506 [00:32<03:23,  2.16it/s, loss=10.3]"
     ]
    },
    {
     "name": "stdout",
     "output_type": "stream",
     "text": [
      "tensor([0.1974, 0.1993, 0.1959,  ..., 0.1995, 0.1967, 0.1978], device='cuda:0',\n",
      "       grad_fn=<SqueezeBackward0>)\n"
     ]
    },
    {
     "name": "stderr",
     "output_type": "stream",
     "text": [
      "Epoch 0:  13%|█▎        | 67/506 [00:32<03:22,  2.16it/s, loss=10.3]"
     ]
    },
    {
     "name": "stdout",
     "output_type": "stream",
     "text": [
      "tensor([0.1978, 0.1958, 0.1971,  ..., 0.1949, 0.1966, 0.1972], device='cuda:0',\n",
      "       grad_fn=<SqueezeBackward0>)\n"
     ]
    },
    {
     "name": "stderr",
     "output_type": "stream",
     "text": [
      "Epoch 0:  13%|█▎        | 68/506 [00:33<03:19,  2.19it/s, loss=10.3]"
     ]
    },
    {
     "name": "stdout",
     "output_type": "stream",
     "text": [
      "tensor([0.1994, 0.1980, 0.1992,  ..., 0.1934, 0.1975, 0.1963], device='cuda:0',\n",
      "       grad_fn=<SqueezeBackward0>)\n"
     ]
    },
    {
     "name": "stderr",
     "output_type": "stream",
     "text": [
      "Epoch 0:  14%|█▎        | 69/506 [00:33<03:22,  2.16it/s, loss=10.3]"
     ]
    },
    {
     "name": "stdout",
     "output_type": "stream",
     "text": [
      "tensor([0.1972, 0.1981, 0.1962,  ..., 0.1978, 0.1955, 0.1959], device='cuda:0',\n",
      "       grad_fn=<SqueezeBackward0>)\n"
     ]
    },
    {
     "name": "stderr",
     "output_type": "stream",
     "text": [
      "Epoch 0:  14%|█▍        | 70/506 [00:34<03:21,  2.17it/s, loss=10.3]"
     ]
    },
    {
     "name": "stdout",
     "output_type": "stream",
     "text": [
      "tensor([0.1979, 0.1970, 0.1990,  ..., 0.1955, 0.1963, 0.1956], device='cuda:0',\n",
      "       grad_fn=<SqueezeBackward0>)\n"
     ]
    },
    {
     "name": "stderr",
     "output_type": "stream",
     "text": [
      "Epoch 0:  14%|█▍        | 71/506 [00:34<03:17,  2.20it/s, loss=10.3]"
     ]
    },
    {
     "name": "stdout",
     "output_type": "stream",
     "text": [
      "tensor([0.1958, 0.1981, 0.1974,  ..., 0.1984, 0.1999, 0.1958], device='cuda:0',\n",
      "       grad_fn=<SqueezeBackward0>)\n"
     ]
    },
    {
     "name": "stderr",
     "output_type": "stream",
     "text": [
      "Epoch 0:  14%|█▍        | 72/506 [00:34<03:17,  2.20it/s, loss=10.3]"
     ]
    },
    {
     "name": "stdout",
     "output_type": "stream",
     "text": [
      "tensor([0.1983, 0.1977, 0.1966,  ..., 0.1942, 0.1976, 0.1967], device='cuda:0',\n",
      "       grad_fn=<SqueezeBackward0>)\n"
     ]
    },
    {
     "name": "stderr",
     "output_type": "stream",
     "text": [
      "Epoch 0:  14%|█▍        | 73/506 [00:35<03:19,  2.18it/s, loss=10.3]"
     ]
    },
    {
     "name": "stdout",
     "output_type": "stream",
     "text": [
      "tensor([0.1985, 0.1979, 0.1966,  ..., 0.1965, 0.1958, 0.1965], device='cuda:0',\n",
      "       grad_fn=<SqueezeBackward0>)\n"
     ]
    },
    {
     "name": "stderr",
     "output_type": "stream",
     "text": [
      "Epoch 0:  15%|█▍        | 74/506 [00:35<03:15,  2.21it/s, loss=10.3]"
     ]
    },
    {
     "name": "stdout",
     "output_type": "stream",
     "text": [
      "tensor([0.1913, 0.1963, 0.1991,  ..., 0.1964, 0.1974, 0.1969], device='cuda:0',\n",
      "       grad_fn=<SqueezeBackward0>)\n"
     ]
    },
    {
     "name": "stderr",
     "output_type": "stream",
     "text": [
      "Epoch 0:  15%|█▍        | 75/506 [00:36<03:15,  2.21it/s, loss=10.3]"
     ]
    },
    {
     "name": "stdout",
     "output_type": "stream",
     "text": [
      "tensor([0.1955, 0.1979, 0.1977,  ..., 0.1936, 0.1999, 0.1942], device='cuda:0',\n",
      "       grad_fn=<SqueezeBackward0>)\n"
     ]
    },
    {
     "name": "stderr",
     "output_type": "stream",
     "text": [
      "Epoch 0:  15%|█▌        | 76/506 [00:36<03:15,  2.19it/s, loss=10.3]"
     ]
    },
    {
     "name": "stdout",
     "output_type": "stream",
     "text": [
      "tensor([0.1959, 0.1961, 0.1990,  ..., 0.1939, 0.1978, 0.1980], device='cuda:0',\n",
      "       grad_fn=<SqueezeBackward0>)\n"
     ]
    },
    {
     "name": "stderr",
     "output_type": "stream",
     "text": [
      "Epoch 0:  15%|█▌        | 77/506 [00:37<03:16,  2.19it/s, loss=10.3]"
     ]
    },
    {
     "name": "stdout",
     "output_type": "stream",
     "text": [
      "tensor([0.1959, 0.1960, 0.1977,  ..., 0.1968, 0.1950, 0.1964], device='cuda:0',\n",
      "       grad_fn=<SqueezeBackward0>)\n"
     ]
    },
    {
     "name": "stderr",
     "output_type": "stream",
     "text": [
      "Epoch 0:  15%|█▌        | 78/506 [00:37<03:13,  2.21it/s, loss=10.3]"
     ]
    },
    {
     "name": "stdout",
     "output_type": "stream",
     "text": [
      "tensor([0.1971, 0.1970, 0.1962,  ..., 0.1995, 0.1952, 0.1985], device='cuda:0',\n",
      "       grad_fn=<SqueezeBackward0>)\n"
     ]
    },
    {
     "name": "stderr",
     "output_type": "stream",
     "text": [
      "Epoch 0:  16%|█▌        | 79/506 [00:38<03:11,  2.23it/s, loss=10.3]"
     ]
    },
    {
     "name": "stdout",
     "output_type": "stream",
     "text": [
      "tensor([0.1956, 0.1981, 0.1957,  ..., 0.1985, 0.1941, 0.1984], device='cuda:0',\n",
      "       grad_fn=<SqueezeBackward0>)\n"
     ]
    },
    {
     "name": "stderr",
     "output_type": "stream",
     "text": [
      "Epoch 0:  16%|█▌        | 80/506 [00:38<03:13,  2.20it/s, loss=10.3]"
     ]
    },
    {
     "name": "stdout",
     "output_type": "stream",
     "text": [
      "tensor([0.1949, 0.1955, 0.1957,  ..., 0.2004, 0.1937, 0.1979], device='cuda:0',\n",
      "       grad_fn=<SqueezeBackward0>)\n"
     ]
    },
    {
     "name": "stderr",
     "output_type": "stream",
     "text": [
      "Epoch 0:  16%|█▌        | 81/506 [00:38<03:11,  2.22it/s, loss=10.3]"
     ]
    },
    {
     "name": "stdout",
     "output_type": "stream",
     "text": [
      "tensor([0.1972, 0.1976, 0.1973,  ..., 0.1951, 0.1992, 0.1959], device='cuda:0',\n",
      "       grad_fn=<SqueezeBackward0>)\n"
     ]
    },
    {
     "name": "stderr",
     "output_type": "stream",
     "text": [
      "Epoch 0:  16%|█▌        | 82/506 [00:39<03:11,  2.21it/s, loss=10.3]"
     ]
    },
    {
     "name": "stdout",
     "output_type": "stream",
     "text": [
      "tensor([0.1964, 0.1959, 0.1978,  ..., 0.1956, 0.1976, 0.1961], device='cuda:0',\n",
      "       grad_fn=<SqueezeBackward0>)\n"
     ]
    },
    {
     "name": "stderr",
     "output_type": "stream",
     "text": [
      "Epoch 0:  16%|█▋        | 83/506 [00:39<03:10,  2.22it/s, loss=10.3]"
     ]
    },
    {
     "name": "stdout",
     "output_type": "stream",
     "text": [
      "tensor([0.1958, 0.1951, 0.1964,  ..., 0.1996, 0.1931, 0.1990], device='cuda:0',\n",
      "       grad_fn=<SqueezeBackward0>)\n"
     ]
    },
    {
     "name": "stderr",
     "output_type": "stream",
     "text": [
      "Epoch 0:  17%|█▋        | 84/506 [00:40<03:09,  2.22it/s, loss=10.3]"
     ]
    },
    {
     "name": "stdout",
     "output_type": "stream",
     "text": [
      "tensor([0.1964, 0.1971, 0.1970,  ..., 0.1961, 0.1991, 0.1951], device='cuda:0',\n",
      "       grad_fn=<SqueezeBackward0>)\n"
     ]
    },
    {
     "name": "stderr",
     "output_type": "stream",
     "text": [
      "Epoch 0:  17%|█▋        | 85/506 [00:40<03:09,  2.22it/s, loss=10.3]"
     ]
    },
    {
     "name": "stdout",
     "output_type": "stream",
     "text": [
      "tensor([0.1977, 0.1960, 0.1957,  ..., 0.2004, 0.1956, 0.1971], device='cuda:0',\n",
      "       grad_fn=<SqueezeBackward0>)\n"
     ]
    },
    {
     "name": "stderr",
     "output_type": "stream",
     "text": [
      "Epoch 0:  17%|█▋        | 86/506 [00:41<03:07,  2.24it/s, loss=10.3]"
     ]
    },
    {
     "name": "stdout",
     "output_type": "stream",
     "text": [
      "tensor([0.1957, 0.1973, 0.1975,  ..., 0.1977, 0.1953, 0.1961], device='cuda:0',\n",
      "       grad_fn=<SqueezeBackward0>)\n"
     ]
    },
    {
     "name": "stderr",
     "output_type": "stream",
     "text": [
      "Epoch 0:  17%|█▋        | 87/506 [00:41<03:08,  2.22it/s, loss=10.3]"
     ]
    },
    {
     "name": "stdout",
     "output_type": "stream",
     "text": [
      "tensor([0.1962, 0.1964, 0.1977,  ..., 0.1949, 0.1968, 0.1965], device='cuda:0',\n",
      "       grad_fn=<SqueezeBackward0>)\n"
     ]
    },
    {
     "name": "stderr",
     "output_type": "stream",
     "text": [
      "Epoch 0:  17%|█▋        | 88/506 [00:42<03:06,  2.25it/s, loss=10.3]"
     ]
    },
    {
     "name": "stdout",
     "output_type": "stream",
     "text": [
      "tensor([0.1964, 0.1965, 0.1967,  ..., 0.1989, 0.1975, 0.1962], device='cuda:0',\n",
      "       grad_fn=<SqueezeBackward0>)\n"
     ]
    },
    {
     "name": "stderr",
     "output_type": "stream",
     "text": [
      "Epoch 0:  18%|█▊        | 89/506 [00:42<03:06,  2.24it/s, loss=10.3]"
     ]
    },
    {
     "name": "stdout",
     "output_type": "stream",
     "text": [
      "tensor([0.1963, 0.1970, 0.1970,  ..., 0.1981, 0.1962, 0.1951], device='cuda:0',\n",
      "       grad_fn=<SqueezeBackward0>)\n"
     ]
    },
    {
     "name": "stderr",
     "output_type": "stream",
     "text": [
      "Epoch 0:  18%|█▊        | 90/506 [00:43<03:08,  2.20it/s, loss=10.3]"
     ]
    },
    {
     "name": "stdout",
     "output_type": "stream",
     "text": [
      "tensor([0.1973, 0.1958, 0.1965,  ..., 0.1945, 0.1964, 0.1986], device='cuda:0',\n",
      "       grad_fn=<SqueezeBackward0>)\n"
     ]
    },
    {
     "name": "stderr",
     "output_type": "stream",
     "text": [
      "Epoch 0:  18%|█▊        | 91/506 [00:43<03:10,  2.18it/s, loss=10.3]"
     ]
    },
    {
     "name": "stdout",
     "output_type": "stream",
     "text": [
      "tensor([0.1979, 0.1983, 0.1960,  ..., 0.1982, 0.1955, 0.1965], device='cuda:0',\n",
      "       grad_fn=<SqueezeBackward0>)\n"
     ]
    },
    {
     "name": "stderr",
     "output_type": "stream",
     "text": [
      "Epoch 0:  18%|█▊        | 92/506 [00:43<03:06,  2.22it/s, loss=10.3]"
     ]
    },
    {
     "name": "stdout",
     "output_type": "stream",
     "text": [
      "tensor([0.1966, 0.1987, 0.1966,  ..., 0.1957, 0.1975, 0.1972], device='cuda:0',\n",
      "       grad_fn=<SqueezeBackward0>)\n"
     ]
    },
    {
     "name": "stderr",
     "output_type": "stream",
     "text": [
      "Epoch 0:  18%|█▊        | 93/506 [00:44<03:04,  2.24it/s, loss=10.3]"
     ]
    },
    {
     "name": "stdout",
     "output_type": "stream",
     "text": [
      "tensor([0.1965, 0.1962, 0.1966,  ..., 0.1967, 0.1981, 0.1968], device='cuda:0',\n",
      "       grad_fn=<SqueezeBackward0>)\n"
     ]
    },
    {
     "name": "stderr",
     "output_type": "stream",
     "text": [
      "Epoch 0:  19%|█▊        | 94/506 [00:44<03:03,  2.24it/s, loss=10.3]"
     ]
    },
    {
     "name": "stdout",
     "output_type": "stream",
     "text": [
      "tensor([0.1992, 0.1971, 0.1962,  ..., 0.1947, 0.1985, 0.1979], device='cuda:0',\n",
      "       grad_fn=<SqueezeBackward0>)\n"
     ]
    },
    {
     "name": "stderr",
     "output_type": "stream",
     "text": [
      "Epoch 0:  19%|█▉        | 95/506 [00:45<03:02,  2.26it/s, loss=10.3]"
     ]
    },
    {
     "name": "stdout",
     "output_type": "stream",
     "text": [
      "tensor([0.1961, 0.1958, 0.1966,  ..., 0.1945, 0.1991, 0.1945], device='cuda:0',\n",
      "       grad_fn=<SqueezeBackward0>)\n"
     ]
    },
    {
     "name": "stderr",
     "output_type": "stream",
     "text": [
      "Epoch 0:  19%|█▉        | 96/506 [00:45<03:01,  2.26it/s, loss=10.3]"
     ]
    },
    {
     "name": "stdout",
     "output_type": "stream",
     "text": [
      "tensor([0.1966, 0.1962, 0.1980,  ..., 0.1966, 0.1968, 0.1960], device='cuda:0',\n",
      "       grad_fn=<SqueezeBackward0>)\n"
     ]
    },
    {
     "name": "stderr",
     "output_type": "stream",
     "text": [
      "Epoch 0:  19%|█▉        | 97/506 [00:46<03:03,  2.22it/s, loss=10.3]"
     ]
    },
    {
     "name": "stdout",
     "output_type": "stream",
     "text": [
      "tensor([0.1957, 0.1951, 0.1966,  ..., 0.1982, 0.1974, 0.1979], device='cuda:0',\n",
      "       grad_fn=<SqueezeBackward0>)\n"
     ]
    },
    {
     "name": "stderr",
     "output_type": "stream",
     "text": [
      "Epoch 0:  19%|█▉        | 98/506 [00:46<03:04,  2.22it/s, loss=10.3]"
     ]
    },
    {
     "name": "stdout",
     "output_type": "stream",
     "text": [
      "tensor([0.1986, 0.1989, 0.1976,  ..., 0.1947, 0.1977, 0.1967], device='cuda:0',\n",
      "       grad_fn=<SqueezeBackward0>)\n"
     ]
    },
    {
     "name": "stderr",
     "output_type": "stream",
     "text": [
      "Epoch 0:  20%|█▉        | 99/506 [00:47<03:03,  2.22it/s, loss=10.3]"
     ]
    },
    {
     "name": "stdout",
     "output_type": "stream",
     "text": [
      "tensor([0.1974, 0.1962, 0.1949,  ..., 0.1975, 0.1966, 0.1969], device='cuda:0',\n",
      "       grad_fn=<SqueezeBackward0>)\n"
     ]
    },
    {
     "name": "stderr",
     "output_type": "stream",
     "text": [
      "Epoch 0:  20%|█▉        | 100/506 [00:47<03:06,  2.18it/s, loss=10.3]"
     ]
    },
    {
     "name": "stdout",
     "output_type": "stream",
     "text": [
      "tensor([0.1979, 0.1956, 0.1954,  ..., 0.1967, 0.1963, 0.1985], device='cuda:0',\n",
      "       grad_fn=<SqueezeBackward0>)\n"
     ]
    },
    {
     "name": "stderr",
     "output_type": "stream",
     "text": [
      "Epoch 0:  20%|█▉        | 101/506 [00:48<03:13,  2.10it/s, loss=10.3]"
     ]
    },
    {
     "name": "stdout",
     "output_type": "stream",
     "text": [
      "tensor([0.1992, 0.1974, 0.1948,  ..., 0.1968, 0.1981, 0.1963], device='cuda:0',\n",
      "       grad_fn=<SqueezeBackward0>)\n"
     ]
    },
    {
     "name": "stderr",
     "output_type": "stream",
     "text": [
      "Epoch 0:  20%|██        | 102/506 [00:48<03:18,  2.03it/s, loss=10.3]"
     ]
    },
    {
     "name": "stdout",
     "output_type": "stream",
     "text": [
      "tensor([0.1980, 0.1971, 0.1991,  ..., 0.1960, 0.1978, 0.1977], device='cuda:0',\n",
      "       grad_fn=<SqueezeBackward0>)\n"
     ]
    },
    {
     "name": "stderr",
     "output_type": "stream",
     "text": [
      "Epoch 0:  20%|██        | 103/506 [00:49<03:19,  2.02it/s, loss=10.3]"
     ]
    },
    {
     "name": "stdout",
     "output_type": "stream",
     "text": [
      "tensor([0.1968, 0.1951, 0.1953,  ..., 0.1945, 0.1964, 0.1941], device='cuda:0',\n",
      "       grad_fn=<SqueezeBackward0>)\n"
     ]
    },
    {
     "name": "stderr",
     "output_type": "stream",
     "text": [
      "Epoch 0:  21%|██        | 104/506 [00:49<03:21,  2.00it/s, loss=10.3]"
     ]
    },
    {
     "name": "stdout",
     "output_type": "stream",
     "text": [
      "tensor([0.1984, 0.1945, 0.1956,  ..., 0.1986, 0.1955, 0.1971], device='cuda:0',\n",
      "       grad_fn=<SqueezeBackward0>)\n"
     ]
    },
    {
     "name": "stderr",
     "output_type": "stream",
     "text": [
      "Epoch 0:  21%|██        | 105/506 [00:50<03:22,  1.98it/s, loss=10.3]"
     ]
    },
    {
     "name": "stdout",
     "output_type": "stream",
     "text": [
      "tensor([0.1977, 0.1989, 0.1971,  ..., 0.1956, 0.1951, 0.1979], device='cuda:0',\n",
      "       grad_fn=<SqueezeBackward0>)\n"
     ]
    },
    {
     "name": "stderr",
     "output_type": "stream",
     "text": [
      "Epoch 0:  21%|██        | 106/506 [00:50<03:22,  1.98it/s, loss=10.3]"
     ]
    },
    {
     "name": "stdout",
     "output_type": "stream",
     "text": [
      "tensor([0.1977, 0.1993, 0.1970,  ..., 0.1943, 0.2021, 0.1955], device='cuda:0',\n",
      "       grad_fn=<SqueezeBackward0>)\n"
     ]
    },
    {
     "name": "stderr",
     "output_type": "stream",
     "text": [
      "Epoch 0:  21%|██        | 107/506 [00:51<03:19,  2.00it/s, loss=10.3]"
     ]
    },
    {
     "name": "stdout",
     "output_type": "stream",
     "text": [
      "tensor([0.1976, 0.1975, 0.1956,  ..., 0.1970, 0.1981, 0.1961], device='cuda:0',\n",
      "       grad_fn=<SqueezeBackward0>)\n"
     ]
    },
    {
     "name": "stderr",
     "output_type": "stream",
     "text": [
      "Epoch 0:  21%|██▏       | 108/506 [00:51<03:20,  1.99it/s, loss=10.3]"
     ]
    },
    {
     "name": "stdout",
     "output_type": "stream",
     "text": [
      "tensor([0.1934, 0.1970, 0.2013,  ..., 0.1933, 0.1964, 0.1959], device='cuda:0',\n",
      "       grad_fn=<SqueezeBackward0>)\n"
     ]
    },
    {
     "name": "stderr",
     "output_type": "stream",
     "text": [
      "Epoch 0:  22%|██▏       | 109/506 [00:52<03:20,  1.98it/s, loss=10.3]"
     ]
    },
    {
     "name": "stdout",
     "output_type": "stream",
     "text": [
      "tensor([0.1965, 0.1953, 0.1986,  ..., 0.1956, 0.1970, 0.1974], device='cuda:0',\n",
      "       grad_fn=<SqueezeBackward0>)\n"
     ]
    },
    {
     "name": "stderr",
     "output_type": "stream",
     "text": [
      "Epoch 0:  22%|██▏       | 110/506 [00:52<03:19,  1.98it/s, loss=10.3]"
     ]
    },
    {
     "name": "stdout",
     "output_type": "stream",
     "text": [
      "tensor([0.1976, 0.1982, 0.1971,  ..., 0.1966, 0.1979, 0.1962], device='cuda:0',\n",
      "       grad_fn=<SqueezeBackward0>)\n"
     ]
    },
    {
     "name": "stderr",
     "output_type": "stream",
     "text": [
      "Epoch 0:  22%|██▏       | 111/506 [00:53<03:14,  2.03it/s, loss=10.3]"
     ]
    },
    {
     "name": "stdout",
     "output_type": "stream",
     "text": [
      "tensor([0.1997, 0.1975, 0.1967,  ..., 0.1968, 0.1974, 0.1971], device='cuda:0',\n",
      "       grad_fn=<SqueezeBackward0>)\n"
     ]
    },
    {
     "name": "stderr",
     "output_type": "stream",
     "text": [
      "Epoch 0:  22%|██▏       | 112/506 [00:53<03:11,  2.06it/s, loss=10.3]"
     ]
    },
    {
     "name": "stdout",
     "output_type": "stream",
     "text": [
      "tensor([0.1969, 0.1985, 0.1973,  ..., 0.1983, 0.1961, 0.1952], device='cuda:0',\n",
      "       grad_fn=<SqueezeBackward0>)\n"
     ]
    },
    {
     "name": "stderr",
     "output_type": "stream",
     "text": [
      "Epoch 0:  22%|██▏       | 113/506 [00:54<03:11,  2.05it/s, loss=10.3]"
     ]
    },
    {
     "name": "stdout",
     "output_type": "stream",
     "text": [
      "tensor([0.1966, 0.1949, 0.1975,  ..., 0.1984, 0.1976, 0.1973], device='cuda:0',\n",
      "       grad_fn=<SqueezeBackward0>)\n"
     ]
    },
    {
     "name": "stderr",
     "output_type": "stream",
     "text": [
      "Epoch 0:  23%|██▎       | 114/506 [00:54<03:11,  2.04it/s, loss=10.3]"
     ]
    },
    {
     "name": "stdout",
     "output_type": "stream",
     "text": [
      "tensor([0.1991, 0.1960, 0.1944,  ..., 0.2001, 0.1944, 0.1986], device='cuda:0',\n",
      "       grad_fn=<SqueezeBackward0>)\n"
     ]
    },
    {
     "name": "stderr",
     "output_type": "stream",
     "text": [
      "Epoch 0:  23%|██▎       | 115/506 [00:55<03:09,  2.07it/s, loss=10.3]"
     ]
    },
    {
     "name": "stdout",
     "output_type": "stream",
     "text": [
      "tensor([0.1975, 0.1990, 0.1969,  ..., 0.1955, 0.1986, 0.1953], device='cuda:0',\n",
      "       grad_fn=<SqueezeBackward0>)\n"
     ]
    },
    {
     "name": "stderr",
     "output_type": "stream",
     "text": [
      "Epoch 0:  23%|██▎       | 116/506 [00:55<03:07,  2.08it/s, loss=10.3]"
     ]
    },
    {
     "name": "stdout",
     "output_type": "stream",
     "text": [
      "tensor([0.1977, 0.1958, 0.1949,  ..., 0.1966, 0.1983, 0.1959], device='cuda:0',\n",
      "       grad_fn=<SqueezeBackward0>)\n"
     ]
    },
    {
     "name": "stderr",
     "output_type": "stream",
     "text": [
      "Epoch 0:  23%|██▎       | 117/506 [00:56<03:09,  2.05it/s, loss=10.3]"
     ]
    },
    {
     "name": "stdout",
     "output_type": "stream",
     "text": [
      "tensor([0.1985, 0.1983, 0.1972,  ..., 0.1996, 0.1951, 0.1992], device='cuda:0',\n",
      "       grad_fn=<SqueezeBackward0>)\n"
     ]
    },
    {
     "name": "stderr",
     "output_type": "stream",
     "text": [
      "Epoch 0:  23%|██▎       | 118/506 [00:56<03:12,  2.02it/s, loss=10.3]"
     ]
    },
    {
     "name": "stdout",
     "output_type": "stream",
     "text": [
      "tensor([0.1975, 0.1966, 0.1972,  ..., 0.1949, 0.1975, 0.1955], device='cuda:0',\n",
      "       grad_fn=<SqueezeBackward0>)\n"
     ]
    },
    {
     "name": "stderr",
     "output_type": "stream",
     "text": [
      "Epoch 0:  24%|██▎       | 119/506 [00:57<03:10,  2.03it/s, loss=10.3]"
     ]
    },
    {
     "name": "stdout",
     "output_type": "stream",
     "text": [
      "tensor([0.1946, 0.1953, 0.1976,  ..., 0.1972, 0.1992, 0.1972], device='cuda:0',\n",
      "       grad_fn=<SqueezeBackward0>)\n"
     ]
    },
    {
     "name": "stderr",
     "output_type": "stream",
     "text": [
      "Epoch 0:  24%|██▎       | 120/506 [00:57<03:11,  2.01it/s, loss=10.3]"
     ]
    },
    {
     "name": "stdout",
     "output_type": "stream",
     "text": [
      "tensor([0.1987, 0.1957, 0.1989,  ..., 0.1952, 0.1965, 0.1954], device='cuda:0',\n",
      "       grad_fn=<SqueezeBackward0>)\n"
     ]
    },
    {
     "name": "stderr",
     "output_type": "stream",
     "text": [
      "Epoch 0:  24%|██▍       | 121/506 [00:58<03:14,  1.98it/s, loss=10.3]"
     ]
    },
    {
     "name": "stdout",
     "output_type": "stream",
     "text": [
      "tensor([0.1987, 0.1959, 0.1948,  ..., 0.2005, 0.1946, 0.1982], device='cuda:0',\n",
      "       grad_fn=<SqueezeBackward0>)\n"
     ]
    },
    {
     "name": "stderr",
     "output_type": "stream",
     "text": [
      "Epoch 0:  24%|██▍       | 122/506 [00:58<03:12,  2.00it/s, loss=10.3]"
     ]
    },
    {
     "name": "stdout",
     "output_type": "stream",
     "text": [
      "tensor([0.1983, 0.1979, 0.1971,  ..., 0.1972, 0.1972, 0.1964], device='cuda:0',\n",
      "       grad_fn=<SqueezeBackward0>)\n"
     ]
    },
    {
     "name": "stderr",
     "output_type": "stream",
     "text": [
      "Epoch 0:  24%|██▍       | 123/506 [00:59<03:10,  2.01it/s, loss=10.3]"
     ]
    },
    {
     "name": "stdout",
     "output_type": "stream",
     "text": [
      "tensor([0.1953, 0.1966, 0.1976,  ..., 0.1979, 0.1966, 0.1959], device='cuda:0',\n",
      "       grad_fn=<SqueezeBackward0>)\n"
     ]
    },
    {
     "name": "stderr",
     "output_type": "stream",
     "text": [
      "Epoch 0:  25%|██▍       | 124/506 [00:59<03:10,  2.00it/s, loss=10.3]"
     ]
    },
    {
     "name": "stdout",
     "output_type": "stream",
     "text": [
      "tensor([0.1960, 0.1960, 0.1963,  ..., 0.1993, 0.1942, 0.1983], device='cuda:0',\n",
      "       grad_fn=<SqueezeBackward0>)\n"
     ]
    },
    {
     "name": "stderr",
     "output_type": "stream",
     "text": [
      "Epoch 0:  25%|██▍       | 125/506 [01:00<03:07,  2.03it/s, loss=10.3]"
     ]
    },
    {
     "name": "stdout",
     "output_type": "stream",
     "text": [
      "tensor([0.1980, 0.1981, 0.1961,  ..., 0.1965, 0.1974, 0.1960], device='cuda:0',\n",
      "       grad_fn=<SqueezeBackward0>)\n"
     ]
    },
    {
     "name": "stderr",
     "output_type": "stream",
     "text": [
      "Epoch 0:  25%|██▍       | 126/506 [01:00<03:06,  2.04it/s, loss=10.3]"
     ]
    },
    {
     "name": "stdout",
     "output_type": "stream",
     "text": [
      "tensor([0.1975, 0.1972, 0.1973,  ..., 0.1950, 0.2004, 0.1962], device='cuda:0',\n",
      "       grad_fn=<SqueezeBackward0>)\n"
     ]
    },
    {
     "name": "stderr",
     "output_type": "stream",
     "text": [
      "Epoch 0:  25%|██▌       | 127/506 [01:00<03:05,  2.04it/s, loss=10.3]"
     ]
    },
    {
     "name": "stdout",
     "output_type": "stream",
     "text": [
      "tensor([0.1974, 0.1965, 0.1956,  ..., 0.1995, 0.1958, 0.1971], device='cuda:0',\n",
      "       grad_fn=<SqueezeBackward0>)\n"
     ]
    },
    {
     "name": "stderr",
     "output_type": "stream",
     "text": [
      "Epoch 0:  25%|██▌       | 128/506 [01:01<03:06,  2.03it/s, loss=10.3]"
     ]
    },
    {
     "name": "stdout",
     "output_type": "stream",
     "text": [
      "tensor([0.1936, 0.1954, 0.1959,  ..., 0.1963, 0.1975, 0.1989], device='cuda:0',\n",
      "       grad_fn=<SqueezeBackward0>)\n"
     ]
    },
    {
     "name": "stderr",
     "output_type": "stream",
     "text": [
      "Epoch 0:  25%|██▌       | 129/506 [01:02<03:08,  2.00it/s, loss=10.3]"
     ]
    },
    {
     "name": "stdout",
     "output_type": "stream",
     "text": [
      "tensor([0.1965, 0.1971, 0.1949,  ..., 0.1962, 0.1975, 0.2002], device='cuda:0',\n",
      "       grad_fn=<SqueezeBackward0>)\n"
     ]
    },
    {
     "name": "stderr",
     "output_type": "stream",
     "text": [
      "Epoch 0:  26%|██▌       | 130/506 [01:02<03:07,  2.00it/s, loss=10.3]"
     ]
    },
    {
     "name": "stdout",
     "output_type": "stream",
     "text": [
      "tensor([0.1953, 0.1949, 0.1975,  ..., 0.1935, 0.1986, 0.1950], device='cuda:0',\n",
      "       grad_fn=<SqueezeBackward0>)\n"
     ]
    },
    {
     "name": "stderr",
     "output_type": "stream",
     "text": [
      "Epoch 0:  26%|██▌       | 131/506 [01:03<03:08,  1.99it/s, loss=10.3]"
     ]
    },
    {
     "name": "stdout",
     "output_type": "stream",
     "text": [
      "tensor([0.1979, 0.1972, 0.1969,  ..., 0.1955, 0.2001, 0.1968], device='cuda:0',\n",
      "       grad_fn=<SqueezeBackward0>)\n"
     ]
    },
    {
     "name": "stderr",
     "output_type": "stream",
     "text": [
      "Epoch 0:  26%|██▌       | 132/506 [01:03<03:08,  1.99it/s, loss=10.3]"
     ]
    },
    {
     "name": "stdout",
     "output_type": "stream",
     "text": [
      "tensor([0.1976, 0.1967, 0.1968,  ..., 0.1966, 0.1988, 0.1973], device='cuda:0',\n",
      "       grad_fn=<SqueezeBackward0>)\n"
     ]
    },
    {
     "name": "stderr",
     "output_type": "stream",
     "text": [
      "Epoch 0:  26%|██▋       | 133/506 [01:04<03:07,  1.99it/s, loss=10.3]"
     ]
    },
    {
     "name": "stdout",
     "output_type": "stream",
     "text": [
      "tensor([0.1961, 0.1955, 0.1952,  ..., 0.1975, 0.1965, 0.1980], device='cuda:0',\n",
      "       grad_fn=<SqueezeBackward0>)\n"
     ]
    },
    {
     "name": "stderr",
     "output_type": "stream",
     "text": [
      "Epoch 0:  26%|██▋       | 134/506 [01:04<03:07,  1.98it/s, loss=10.3]"
     ]
    },
    {
     "name": "stdout",
     "output_type": "stream",
     "text": [
      "tensor([0.1951, 0.1951, 0.1971,  ..., 0.1968, 0.1980, 0.1968], device='cuda:0',\n",
      "       grad_fn=<SqueezeBackward0>)\n"
     ]
    },
    {
     "name": "stderr",
     "output_type": "stream",
     "text": [
      "Epoch 0:  27%|██▋       | 135/506 [01:05<03:05,  2.00it/s, loss=10.3]"
     ]
    },
    {
     "name": "stdout",
     "output_type": "stream",
     "text": [
      "tensor([0.1973, 0.1979, 0.1982,  ..., 0.1954, 0.1966, 0.1965], device='cuda:0',\n",
      "       grad_fn=<SqueezeBackward0>)\n"
     ]
    },
    {
     "name": "stderr",
     "output_type": "stream",
     "text": [
      "Epoch 0:  27%|██▋       | 136/506 [01:05<03:04,  2.01it/s, loss=10.3]"
     ]
    },
    {
     "name": "stdout",
     "output_type": "stream",
     "text": [
      "tensor([0.1960, 0.1968, 0.1990,  ..., 0.1970, 0.1969, 0.1977], device='cuda:0',\n",
      "       grad_fn=<SqueezeBackward0>)\n"
     ]
    },
    {
     "name": "stderr",
     "output_type": "stream",
     "text": [
      "Epoch 0:  27%|██▋       | 137/506 [01:06<03:03,  2.01it/s, loss=10.3]"
     ]
    },
    {
     "name": "stdout",
     "output_type": "stream",
     "text": [
      "tensor([0.2038, 0.2040, 0.1873,  ..., 0.2012, 0.1991, 0.1960], device='cuda:0',\n",
      "       grad_fn=<SqueezeBackward0>)\n"
     ]
    },
    {
     "name": "stderr",
     "output_type": "stream",
     "text": [
      "Epoch 0:  27%|██▋       | 138/506 [01:06<03:03,  2.00it/s, loss=10.3]"
     ]
    },
    {
     "name": "stdout",
     "output_type": "stream",
     "text": [
      "tensor([0.1961, 0.1972, 0.1978,  ..., 0.1959, 0.1981, 0.1954], device='cuda:0',\n",
      "       grad_fn=<SqueezeBackward0>)\n"
     ]
    },
    {
     "name": "stderr",
     "output_type": "stream",
     "text": [
      "Epoch 0:  27%|██▋       | 139/506 [01:07<03:02,  2.01it/s, loss=10.3]"
     ]
    },
    {
     "name": "stdout",
     "output_type": "stream",
     "text": [
      "tensor([0.1982, 0.1980, 0.1964,  ..., 0.1986, 0.1960, 0.1969], device='cuda:0',\n",
      "       grad_fn=<SqueezeBackward0>)\n"
     ]
    },
    {
     "name": "stderr",
     "output_type": "stream",
     "text": [
      "Epoch 0:  28%|██▊       | 140/506 [01:07<03:01,  2.01it/s, loss=10.3]"
     ]
    },
    {
     "name": "stdout",
     "output_type": "stream",
     "text": [
      "tensor([0.1960, 0.1966, 0.1979,  ..., 0.1972, 0.1967, 0.1962], device='cuda:0',\n",
      "       grad_fn=<SqueezeBackward0>)\n"
     ]
    },
    {
     "name": "stderr",
     "output_type": "stream",
     "text": [
      "Epoch 0:  28%|██▊       | 141/506 [01:07<03:00,  2.03it/s, loss=10.3]"
     ]
    },
    {
     "name": "stdout",
     "output_type": "stream",
     "text": [
      "tensor([0.1984, 0.1969, 0.1939,  ..., 0.1992, 0.1972, 0.1981], device='cuda:0',\n",
      "       grad_fn=<SqueezeBackward0>)\n"
     ]
    },
    {
     "name": "stderr",
     "output_type": "stream",
     "text": [
      "Epoch 0:  28%|██▊       | 142/506 [01:08<03:00,  2.01it/s, loss=10.3]"
     ]
    },
    {
     "name": "stdout",
     "output_type": "stream",
     "text": [
      "tensor([0.2009, 0.1994, 0.1947,  ..., 0.1976, 0.1946, 0.1982], device='cuda:0',\n",
      "       grad_fn=<SqueezeBackward0>)\n"
     ]
    },
    {
     "name": "stderr",
     "output_type": "stream",
     "text": [
      "Epoch 0:  28%|██▊       | 143/506 [01:08<03:01,  2.00it/s, loss=10.3]"
     ]
    },
    {
     "name": "stdout",
     "output_type": "stream",
     "text": [
      "tensor([0.1970, 0.1960, 0.1944,  ..., 0.1987, 0.1976, 0.1980], device='cuda:0',\n",
      "       grad_fn=<SqueezeBackward0>)\n"
     ]
    },
    {
     "name": "stderr",
     "output_type": "stream",
     "text": [
      "Epoch 0:  28%|██▊       | 144/506 [01:09<03:00,  2.01it/s, loss=10.3]"
     ]
    },
    {
     "name": "stdout",
     "output_type": "stream",
     "text": [
      "tensor([0.1980, 0.1979, 0.1959,  ..., 0.1984, 0.1973, 0.1984], device='cuda:0',\n",
      "       grad_fn=<SqueezeBackward0>)\n"
     ]
    },
    {
     "name": "stderr",
     "output_type": "stream",
     "text": [
      "Epoch 0:  29%|██▊       | 145/506 [01:09<03:00,  2.00it/s, loss=10.3]"
     ]
    },
    {
     "name": "stdout",
     "output_type": "stream",
     "text": [
      "tensor([0.1992, 0.1966, 0.1942,  ..., 0.1978, 0.1953, 0.1981], device='cuda:0',\n",
      "       grad_fn=<SqueezeBackward0>)\n"
     ]
    },
    {
     "name": "stderr",
     "output_type": "stream",
     "text": [
      "Epoch 0:  29%|██▉       | 146/506 [01:10<03:00,  1.99it/s, loss=10.3]"
     ]
    },
    {
     "name": "stdout",
     "output_type": "stream",
     "text": [
      "tensor([0.1990, 0.1965, 0.1970,  ..., 0.1949, 0.1979, 0.1962], device='cuda:0',\n",
      "       grad_fn=<SqueezeBackward0>)\n"
     ]
    },
    {
     "name": "stderr",
     "output_type": "stream",
     "text": [
      "Epoch 0:  29%|██▉       | 147/506 [01:11<03:00,  1.99it/s, loss=10.3]"
     ]
    },
    {
     "name": "stdout",
     "output_type": "stream",
     "text": [
      "tensor([0.1965, 0.1968, 0.1953,  ..., 0.1948, 0.1952, 0.1978], device='cuda:0',\n",
      "       grad_fn=<SqueezeBackward0>)\n"
     ]
    },
    {
     "name": "stderr",
     "output_type": "stream",
     "text": [
      "Epoch 0:  29%|██▉       | 148/506 [01:11<03:00,  1.99it/s, loss=10.3]"
     ]
    },
    {
     "name": "stdout",
     "output_type": "stream",
     "text": [
      "tensor([0.1974, 0.1981, 0.2005,  ..., 0.1981, 0.1967, 0.1983], device='cuda:0',\n",
      "       grad_fn=<SqueezeBackward0>)\n"
     ]
    },
    {
     "name": "stderr",
     "output_type": "stream",
     "text": [
      "Epoch 0:  29%|██▉       | 149/506 [01:11<02:57,  2.01it/s, loss=10.3]"
     ]
    },
    {
     "name": "stdout",
     "output_type": "stream",
     "text": [
      "tensor([0.1953, 0.1966, 0.1974,  ..., 0.1960, 0.1970, 0.1975], device='cuda:0',\n",
      "       grad_fn=<SqueezeBackward0>)\n"
     ]
    },
    {
     "name": "stderr",
     "output_type": "stream",
     "text": [
      "Epoch 0:  30%|██▉       | 150/506 [01:12<02:59,  1.98it/s, loss=10.3]"
     ]
    },
    {
     "name": "stdout",
     "output_type": "stream",
     "text": [
      "tensor([0.1956, 0.1995, 0.1986,  ..., 0.1950, 0.1996, 0.1946], device='cuda:0',\n",
      "       grad_fn=<SqueezeBackward0>)\n"
     ]
    },
    {
     "name": "stderr",
     "output_type": "stream",
     "text": [
      "Epoch 0:  30%|██▉       | 151/506 [01:12<02:55,  2.03it/s, loss=10.3]"
     ]
    },
    {
     "name": "stdout",
     "output_type": "stream",
     "text": [
      "tensor([0.1963, 0.1976, 0.1982,  ..., 0.1980, 0.1983, 0.1987], device='cuda:0',\n",
      "       grad_fn=<SqueezeBackward0>)\n"
     ]
    },
    {
     "name": "stderr",
     "output_type": "stream",
     "text": [
      "Epoch 0:  30%|███       | 152/506 [01:13<02:53,  2.04it/s, loss=10.3]"
     ]
    },
    {
     "name": "stdout",
     "output_type": "stream",
     "text": [
      "tensor([0.1954, 0.1968, 0.1985,  ..., 0.1955, 0.1991, 0.1965], device='cuda:0',\n",
      "       grad_fn=<SqueezeBackward0>)\n"
     ]
    },
    {
     "name": "stderr",
     "output_type": "stream",
     "text": [
      "Epoch 0:  30%|███       | 153/506 [01:13<02:50,  2.07it/s, loss=10.3]"
     ]
    },
    {
     "name": "stdout",
     "output_type": "stream",
     "text": [
      "tensor([0.1935, 0.1951, 0.1977,  ..., 0.1979, 0.1987, 0.1963], device='cuda:0',\n",
      "       grad_fn=<SqueezeBackward0>)\n"
     ]
    },
    {
     "name": "stderr",
     "output_type": "stream",
     "text": [
      "Epoch 0:  30%|███       | 154/506 [01:14<02:49,  2.08it/s, loss=10.3]"
     ]
    },
    {
     "name": "stdout",
     "output_type": "stream",
     "text": [
      "tensor([0.1976, 0.1956, 0.1962,  ..., 0.2021, 0.1950, 0.1987], device='cuda:0',\n",
      "       grad_fn=<SqueezeBackward0>)\n"
     ]
    },
    {
     "name": "stderr",
     "output_type": "stream",
     "text": [
      "Epoch 0:  31%|███       | 155/506 [01:14<02:50,  2.06it/s, loss=10.3]"
     ]
    },
    {
     "name": "stdout",
     "output_type": "stream",
     "text": [
      "tensor([0.1952, 0.1981, 0.1989,  ..., 0.1931, 0.1997, 0.1951], device='cuda:0',\n",
      "       grad_fn=<SqueezeBackward0>)\n"
     ]
    },
    {
     "name": "stderr",
     "output_type": "stream",
     "text": [
      "Epoch 0:  31%|███       | 156/506 [01:15<02:50,  2.05it/s, loss=10.3]"
     ]
    },
    {
     "name": "stdout",
     "output_type": "stream",
     "text": [
      "tensor([0.1976, 0.1984, 0.1976,  ..., 0.1997, 0.1968, 0.1977], device='cuda:0',\n",
      "       grad_fn=<SqueezeBackward0>)\n"
     ]
    },
    {
     "name": "stderr",
     "output_type": "stream",
     "text": [
      "Epoch 0:  31%|███       | 157/506 [01:15<02:50,  2.05it/s, loss=10.3]"
     ]
    },
    {
     "name": "stdout",
     "output_type": "stream",
     "text": [
      "tensor([0.1961, 0.1968, 0.1980,  ..., 0.1969, 0.1966, 0.1958], device='cuda:0',\n",
      "       grad_fn=<SqueezeBackward0>)\n"
     ]
    },
    {
     "name": "stderr",
     "output_type": "stream",
     "text": [
      "Epoch 0:  31%|███       | 158/506 [01:16<02:48,  2.07it/s, loss=10.3]"
     ]
    },
    {
     "name": "stdout",
     "output_type": "stream",
     "text": [
      "tensor([0.2001, 0.1962, 0.1957,  ..., 0.1971, 0.1970, 0.1976], device='cuda:0',\n",
      "       grad_fn=<SqueezeBackward0>)\n"
     ]
    },
    {
     "name": "stderr",
     "output_type": "stream",
     "text": [
      "Epoch 0:  31%|███▏      | 159/506 [01:16<02:46,  2.09it/s, loss=10.3]"
     ]
    },
    {
     "name": "stdout",
     "output_type": "stream",
     "text": [
      "tensor([0.1932, 0.1990, 0.1984,  ..., 0.1975, 0.1982, 0.1953], device='cuda:0',\n",
      "       grad_fn=<SqueezeBackward0>)\n"
     ]
    },
    {
     "name": "stderr",
     "output_type": "stream",
     "text": [
      "Epoch 0:  32%|███▏      | 160/506 [01:17<02:47,  2.06it/s, loss=10.3]"
     ]
    },
    {
     "name": "stdout",
     "output_type": "stream",
     "text": [
      "tensor([0.1989, 0.1964, 0.1971,  ..., 0.1924, 0.1992, 0.1966], device='cuda:0',\n",
      "       grad_fn=<SqueezeBackward0>)\n"
     ]
    },
    {
     "name": "stderr",
     "output_type": "stream",
     "text": [
      "Epoch 0:  32%|███▏      | 161/506 [01:17<02:47,  2.06it/s, loss=10.3]"
     ]
    },
    {
     "name": "stdout",
     "output_type": "stream",
     "text": [
      "tensor([0.1995, 0.1959, 0.1974,  ..., 0.1953, 0.1974, 0.1968], device='cuda:0',\n",
      "       grad_fn=<SqueezeBackward0>)\n"
     ]
    },
    {
     "name": "stderr",
     "output_type": "stream",
     "text": [
      "Epoch 0:  32%|███▏      | 162/506 [01:18<02:46,  2.07it/s, loss=10.3]"
     ]
    },
    {
     "name": "stdout",
     "output_type": "stream",
     "text": [
      "tensor([0.1974, 0.1968, 0.1939,  ..., 0.1977, 0.1960, 0.1983], device='cuda:0',\n",
      "       grad_fn=<SqueezeBackward0>)\n"
     ]
    },
    {
     "name": "stderr",
     "output_type": "stream",
     "text": [
      "Epoch 0:  32%|███▏      | 163/506 [01:18<02:44,  2.08it/s, loss=10.3]"
     ]
    },
    {
     "name": "stdout",
     "output_type": "stream",
     "text": [
      "tensor([0.1971, 0.1982, 0.1971,  ..., 0.1976, 0.1979, 0.1986], device='cuda:0',\n",
      "       grad_fn=<SqueezeBackward0>)\n"
     ]
    },
    {
     "name": "stderr",
     "output_type": "stream",
     "text": [
      "Epoch 0:  32%|███▏      | 164/506 [01:19<02:43,  2.10it/s, loss=10.3]"
     ]
    },
    {
     "name": "stdout",
     "output_type": "stream",
     "text": [
      "tensor([0.2008, 0.1973, 0.1952,  ..., 0.1987, 0.1935, 0.1972], device='cuda:0',\n",
      "       grad_fn=<SqueezeBackward0>)\n"
     ]
    },
    {
     "name": "stderr",
     "output_type": "stream",
     "text": [
      "Epoch 0:  33%|███▎      | 165/506 [01:19<02:42,  2.10it/s, loss=10.3]"
     ]
    },
    {
     "name": "stdout",
     "output_type": "stream",
     "text": [
      "tensor([0.1956, 0.1966, 0.1976,  ..., 0.1978, 0.1948, 0.1964], device='cuda:0',\n",
      "       grad_fn=<SqueezeBackward0>)\n"
     ]
    },
    {
     "name": "stderr",
     "output_type": "stream",
     "text": [
      "Epoch 0:  33%|███▎      | 166/506 [01:20<02:43,  2.08it/s, loss=10.3]"
     ]
    },
    {
     "name": "stdout",
     "output_type": "stream",
     "text": [
      "tensor([0.1986, 0.1973, 0.1965,  ..., 0.1973, 0.1959, 0.1968], device='cuda:0',\n",
      "       grad_fn=<SqueezeBackward0>)\n"
     ]
    },
    {
     "name": "stderr",
     "output_type": "stream",
     "text": [
      "Epoch 0:  33%|███▎      | 167/506 [01:20<02:45,  2.05it/s, loss=10.3]"
     ]
    },
    {
     "name": "stdout",
     "output_type": "stream",
     "text": [
      "tensor([0.1945, 0.1993, 0.1974,  ..., 0.1976, 0.1965, 0.1956], device='cuda:0',\n",
      "       grad_fn=<SqueezeBackward0>)\n"
     ]
    },
    {
     "name": "stderr",
     "output_type": "stream",
     "text": [
      "Epoch 0:  33%|███▎      | 168/506 [01:21<02:42,  2.08it/s, loss=10.3]"
     ]
    },
    {
     "name": "stdout",
     "output_type": "stream",
     "text": [
      "tensor([0.1951, 0.1958, 0.1971,  ..., 0.1973, 0.1979, 0.1976], device='cuda:0',\n",
      "       grad_fn=<SqueezeBackward0>)\n"
     ]
    },
    {
     "name": "stderr",
     "output_type": "stream",
     "text": [
      "Epoch 0:  33%|███▎      | 169/506 [01:21<02:38,  2.13it/s, loss=10.3]"
     ]
    },
    {
     "name": "stdout",
     "output_type": "stream",
     "text": [
      "tensor([0.1984, 0.1969, 0.1969,  ..., 0.1949, 0.1980, 0.1979], device='cuda:0',\n",
      "       grad_fn=<SqueezeBackward0>)\n"
     ]
    },
    {
     "name": "stderr",
     "output_type": "stream",
     "text": [
      "Epoch 0:  34%|███▎      | 170/506 [01:22<02:38,  2.12it/s, loss=10.3]"
     ]
    },
    {
     "name": "stdout",
     "output_type": "stream",
     "text": [
      "tensor([0.1934, 0.1983, 0.1970,  ..., 0.1978, 0.1977, 0.1955], device='cuda:0',\n",
      "       grad_fn=<SqueezeBackward0>)\n"
     ]
    },
    {
     "name": "stderr",
     "output_type": "stream",
     "text": [
      "Epoch 0:  34%|███▍      | 171/506 [01:22<02:37,  2.13it/s, loss=10.3]"
     ]
    },
    {
     "name": "stdout",
     "output_type": "stream",
     "text": [
      "tensor([0.1971, 0.1982, 0.1969,  ..., 0.1976, 0.1968, 0.1962], device='cuda:0',\n",
      "       grad_fn=<SqueezeBackward0>)\n"
     ]
    },
    {
     "name": "stderr",
     "output_type": "stream",
     "text": [
      "Epoch 0:  34%|███▍      | 172/506 [01:22<02:34,  2.16it/s, loss=10.3]"
     ]
    },
    {
     "name": "stdout",
     "output_type": "stream",
     "text": [
      "tensor([0.1961, 0.1944, 0.1966,  ..., 0.1957, 0.1972, 0.1970], device='cuda:0',\n",
      "       grad_fn=<SqueezeBackward0>)\n"
     ]
    },
    {
     "name": "stderr",
     "output_type": "stream",
     "text": [
      "Epoch 0:  34%|███▍      | 173/506 [01:23<02:36,  2.13it/s, loss=10.3]"
     ]
    },
    {
     "name": "stdout",
     "output_type": "stream",
     "text": [
      "tensor([0.1947, 0.1961, 0.1984,  ..., 0.1973, 0.1964, 0.1953], device='cuda:0',\n",
      "       grad_fn=<SqueezeBackward0>)\n"
     ]
    },
    {
     "name": "stderr",
     "output_type": "stream",
     "text": [
      "Epoch 0:  34%|███▍      | 174/506 [01:23<02:36,  2.12it/s, loss=10.3]"
     ]
    },
    {
     "name": "stdout",
     "output_type": "stream",
     "text": [
      "tensor([0.1962, 0.1975, 0.1977,  ..., 0.1953, 0.1962, 0.1971], device='cuda:0',\n",
      "       grad_fn=<SqueezeBackward0>)\n"
     ]
    },
    {
     "name": "stderr",
     "output_type": "stream",
     "text": [
      "Epoch 0:  35%|███▍      | 175/506 [01:24<02:35,  2.13it/s, loss=10.3]"
     ]
    },
    {
     "name": "stdout",
     "output_type": "stream",
     "text": [
      "tensor([0.1951, 0.1972, 0.1976,  ..., 0.1986, 0.1950, 0.1960], device='cuda:0',\n",
      "       grad_fn=<SqueezeBackward0>)\n"
     ]
    },
    {
     "name": "stderr",
     "output_type": "stream",
     "text": [
      "Epoch 0:  35%|███▍      | 176/506 [01:24<02:32,  2.16it/s, loss=10.3]"
     ]
    },
    {
     "name": "stdout",
     "output_type": "stream",
     "text": [
      "tensor([0.1956, 0.1962, 0.1965,  ..., 0.1979, 0.1959, 0.1963], device='cuda:0',\n",
      "       grad_fn=<SqueezeBackward0>)\n"
     ]
    },
    {
     "name": "stderr",
     "output_type": "stream",
     "text": [
      "Epoch 0:  35%|███▍      | 177/506 [01:25<02:30,  2.19it/s, loss=10.3]"
     ]
    },
    {
     "name": "stdout",
     "output_type": "stream",
     "text": [
      "tensor([0.1972, 0.1964, 0.1985,  ..., 0.1946, 0.1964, 0.1978], device='cuda:0',\n",
      "       grad_fn=<SqueezeBackward0>)\n"
     ]
    },
    {
     "name": "stderr",
     "output_type": "stream",
     "text": [
      "Epoch 0:  35%|███▌      | 178/506 [01:25<02:31,  2.17it/s, loss=10.3]"
     ]
    },
    {
     "name": "stdout",
     "output_type": "stream",
     "text": [
      "tensor([0.1975, 0.1983, 0.1955,  ..., 0.1968, 0.1959, 0.1967], device='cuda:0',\n",
      "       grad_fn=<SqueezeBackward0>)\n"
     ]
    },
    {
     "name": "stderr",
     "output_type": "stream",
     "text": [
      "Epoch 0:  35%|███▌      | 179/506 [01:26<02:28,  2.20it/s, loss=10.3]"
     ]
    },
    {
     "name": "stdout",
     "output_type": "stream",
     "text": [
      "tensor([0.1948, 0.1976, 0.2003,  ..., 0.1954, 0.1984, 0.1963], device='cuda:0',\n",
      "       grad_fn=<SqueezeBackward0>)\n"
     ]
    },
    {
     "name": "stderr",
     "output_type": "stream",
     "text": [
      "Epoch 0:  36%|███▌      | 180/506 [01:26<02:27,  2.21it/s, loss=10.3]"
     ]
    },
    {
     "name": "stdout",
     "output_type": "stream",
     "text": [
      "tensor([0.1980, 0.1977, 0.1960,  ..., 0.1942, 0.1971, 0.1969], device='cuda:0',\n",
      "       grad_fn=<SqueezeBackward0>)\n"
     ]
    },
    {
     "name": "stderr",
     "output_type": "stream",
     "text": [
      "Epoch 0:  36%|███▌      | 181/506 [01:27<02:29,  2.17it/s, loss=10.3]"
     ]
    },
    {
     "name": "stdout",
     "output_type": "stream",
     "text": [
      "tensor([0.1991, 0.1976, 0.1947,  ..., 0.1982, 0.1980, 0.1981], device='cuda:0',\n",
      "       grad_fn=<SqueezeBackward0>)\n"
     ]
    },
    {
     "name": "stderr",
     "output_type": "stream",
     "text": [
      "Epoch 0:  36%|███▌      | 182/506 [01:27<02:30,  2.15it/s, loss=10.3]"
     ]
    },
    {
     "name": "stdout",
     "output_type": "stream",
     "text": [
      "tensor([0.1973, 0.1975, 0.1975,  ..., 0.1955, 0.1964, 0.1967], device='cuda:0',\n",
      "       grad_fn=<SqueezeBackward0>)\n"
     ]
    },
    {
     "name": "stderr",
     "output_type": "stream",
     "text": [
      "Epoch 0:  36%|███▌      | 183/506 [01:28<02:29,  2.16it/s, loss=10.3]"
     ]
    },
    {
     "name": "stdout",
     "output_type": "stream",
     "text": [
      "tensor([0.1972, 0.1995, 0.1974,  ..., 0.1978, 0.1970, 0.1974], device='cuda:0',\n",
      "       grad_fn=<SqueezeBackward0>)\n"
     ]
    },
    {
     "name": "stderr",
     "output_type": "stream",
     "text": [
      "Epoch 0:  36%|███▋      | 184/506 [01:28<02:27,  2.19it/s, loss=10.3]"
     ]
    },
    {
     "name": "stdout",
     "output_type": "stream",
     "text": [
      "tensor([0.2008, 0.1978, 0.1946,  ..., 0.1977, 0.1953, 0.1990], device='cuda:0',\n",
      "       grad_fn=<SqueezeBackward0>)\n"
     ]
    },
    {
     "name": "stderr",
     "output_type": "stream",
     "text": [
      "Epoch 0:  37%|███▋      | 185/506 [01:28<02:27,  2.18it/s, loss=10.3]"
     ]
    },
    {
     "name": "stdout",
     "output_type": "stream",
     "text": [
      "tensor([0.1971, 0.1957, 0.1954,  ..., 0.1976, 0.1963, 0.1982], device='cuda:0',\n",
      "       grad_fn=<SqueezeBackward0>)\n"
     ]
    },
    {
     "name": "stderr",
     "output_type": "stream",
     "text": [
      "Epoch 0:  37%|███▋      | 186/506 [01:29<02:24,  2.21it/s, loss=10.3]"
     ]
    },
    {
     "name": "stdout",
     "output_type": "stream",
     "text": [
      "tensor([0.1979, 0.1991, 0.1969,  ..., 0.1958, 0.1997, 0.1955], device='cuda:0',\n",
      "       grad_fn=<SqueezeBackward0>)\n"
     ]
    },
    {
     "name": "stderr",
     "output_type": "stream",
     "text": [
      "Epoch 0:  37%|███▋      | 187/506 [01:29<02:24,  2.21it/s, loss=10.3]"
     ]
    },
    {
     "name": "stdout",
     "output_type": "stream",
     "text": [
      "tensor([0.1966, 0.1970, 0.1982,  ..., 0.1968, 0.1969, 0.1983], device='cuda:0',\n",
      "       grad_fn=<SqueezeBackward0>)\n"
     ]
    },
    {
     "name": "stderr",
     "output_type": "stream",
     "text": [
      "Epoch 0:  37%|███▋      | 188/506 [01:30<02:24,  2.20it/s, loss=10.3]"
     ]
    },
    {
     "name": "stdout",
     "output_type": "stream",
     "text": [
      "tensor([0.1964, 0.1964, 0.1976,  ..., 0.1994, 0.1965, 0.1971], device='cuda:0',\n",
      "       grad_fn=<SqueezeBackward0>)\n"
     ]
    },
    {
     "name": "stderr",
     "output_type": "stream",
     "text": [
      "Epoch 0:  37%|███▋      | 189/506 [01:30<02:23,  2.21it/s, loss=10.3]"
     ]
    },
    {
     "name": "stdout",
     "output_type": "stream",
     "text": [
      "tensor([0.1964, 0.1970, 0.1957,  ..., 0.1994, 0.1965, 0.2000], device='cuda:0',\n",
      "       grad_fn=<SqueezeBackward0>)\n"
     ]
    },
    {
     "name": "stderr",
     "output_type": "stream",
     "text": [
      "Epoch 0:  38%|███▊      | 190/506 [01:31<02:22,  2.22it/s, loss=10.3]"
     ]
    },
    {
     "name": "stdout",
     "output_type": "stream",
     "text": [
      "tensor([0.1948, 0.1987, 0.1995,  ..., 0.1966, 0.1975, 0.1941], device='cuda:0',\n",
      "       grad_fn=<SqueezeBackward0>)\n"
     ]
    },
    {
     "name": "stderr",
     "output_type": "stream",
     "text": [
      "Epoch 0:  38%|███▊      | 191/506 [01:31<02:24,  2.18it/s, loss=10.3]"
     ]
    },
    {
     "name": "stdout",
     "output_type": "stream",
     "text": [
      "tensor([0.1961, 0.1981, 0.1954,  ..., 0.1994, 0.1975, 0.1961], device='cuda:0',\n",
      "       grad_fn=<SqueezeBackward0>)\n"
     ]
    },
    {
     "name": "stderr",
     "output_type": "stream",
     "text": [
      "Epoch 0:  38%|███▊      | 192/506 [01:32<02:25,  2.16it/s, loss=10.3]"
     ]
    },
    {
     "name": "stdout",
     "output_type": "stream",
     "text": [
      "tensor([0.1958, 0.1966, 0.1986,  ..., 0.1965, 0.1962, 0.1978], device='cuda:0',\n",
      "       grad_fn=<SqueezeBackward0>)\n"
     ]
    },
    {
     "name": "stderr",
     "output_type": "stream",
     "text": [
      "Epoch 0:  38%|███▊      | 193/506 [01:32<02:23,  2.18it/s, loss=10.3]"
     ]
    },
    {
     "name": "stdout",
     "output_type": "stream",
     "text": [
      "tensor([0.1975, 0.1981, 0.1984,  ..., 0.1992, 0.1980, 0.1967], device='cuda:0',\n",
      "       grad_fn=<SqueezeBackward0>)\n"
     ]
    },
    {
     "name": "stderr",
     "output_type": "stream",
     "text": [
      "Epoch 0:  38%|███▊      | 194/506 [01:33<02:25,  2.15it/s, loss=10.3]"
     ]
    },
    {
     "name": "stdout",
     "output_type": "stream",
     "text": [
      "tensor([0.1993, 0.1981, 0.1961,  ..., 0.1985, 0.1981, 0.1959], device='cuda:0',\n",
      "       grad_fn=<SqueezeBackward0>)\n"
     ]
    },
    {
     "name": "stderr",
     "output_type": "stream",
     "text": [
      "Epoch 0:  39%|███▊      | 195/506 [01:33<02:26,  2.13it/s, loss=10.3]"
     ]
    },
    {
     "name": "stdout",
     "output_type": "stream",
     "text": [
      "tensor([0.1966, 0.1982, 0.1975,  ..., 0.1929, 0.1983, 0.1947], device='cuda:0',\n",
      "       grad_fn=<SqueezeBackward0>)\n"
     ]
    },
    {
     "name": "stderr",
     "output_type": "stream",
     "text": [
      "Epoch 0:  39%|███▊      | 196/506 [01:34<02:25,  2.13it/s, loss=10.3]"
     ]
    },
    {
     "name": "stdout",
     "output_type": "stream",
     "text": [
      "tensor([0.1972, 0.1957, 0.1979,  ..., 0.1961, 0.1968, 0.1960], device='cuda:0',\n",
      "       grad_fn=<SqueezeBackward0>)\n"
     ]
    },
    {
     "name": "stderr",
     "output_type": "stream",
     "text": [
      "Epoch 0:  39%|███▉      | 197/506 [01:34<02:26,  2.11it/s, loss=10.3]"
     ]
    },
    {
     "name": "stdout",
     "output_type": "stream",
     "text": [
      "tensor([0.1967, 0.1963, 0.1994,  ..., 0.1968, 0.1959, 0.1979], device='cuda:0',\n",
      "       grad_fn=<SqueezeBackward0>)\n"
     ]
    },
    {
     "name": "stderr",
     "output_type": "stream",
     "text": [
      "Epoch 0:  39%|███▉      | 198/506 [01:35<02:23,  2.14it/s, loss=10.3]"
     ]
    },
    {
     "name": "stdout",
     "output_type": "stream",
     "text": [
      "tensor([0.1967, 0.1991, 0.1970,  ..., 0.1963, 0.1959, 0.1959], device='cuda:0',\n",
      "       grad_fn=<SqueezeBackward0>)\n"
     ]
    },
    {
     "name": "stderr",
     "output_type": "stream",
     "text": [
      "Epoch 0:  39%|███▉      | 199/506 [01:35<02:25,  2.11it/s, loss=10.3]"
     ]
    },
    {
     "name": "stdout",
     "output_type": "stream",
     "text": [
      "tensor([0.1949, 0.1958, 0.1990,  ..., 0.1960, 0.1980, 0.1957], device='cuda:0',\n",
      "       grad_fn=<SqueezeBackward0>)\n"
     ]
    },
    {
     "name": "stderr",
     "output_type": "stream",
     "text": [
      "Epoch 0:  40%|███▉      | 200/506 [01:35<02:22,  2.14it/s, loss=10.3]"
     ]
    },
    {
     "name": "stdout",
     "output_type": "stream",
     "text": [
      "tensor([0.1987, 0.1963, 0.1955,  ..., 0.1992, 0.1949, 0.1996], device='cuda:0',\n",
      "       grad_fn=<SqueezeBackward0>)\n"
     ]
    },
    {
     "name": "stderr",
     "output_type": "stream",
     "text": [
      "Epoch 0:  40%|███▉      | 201/506 [01:36<02:23,  2.13it/s, loss=10.3]"
     ]
    },
    {
     "name": "stdout",
     "output_type": "stream",
     "text": [
      "tensor([0.1975, 0.1963, 0.1952,  ..., 0.1989, 0.1970, 0.1970], device='cuda:0',\n",
      "       grad_fn=<SqueezeBackward0>)\n"
     ]
    },
    {
     "name": "stderr",
     "output_type": "stream",
     "text": [
      "Epoch 0:  40%|███▉      | 202/506 [01:36<02:21,  2.15it/s, loss=10.3]"
     ]
    },
    {
     "name": "stdout",
     "output_type": "stream",
     "text": [
      "tensor([0.1957, 0.1977, 0.1993,  ..., 0.1971, 0.1966, 0.1991], device='cuda:0',\n",
      "       grad_fn=<SqueezeBackward0>)\n"
     ]
    },
    {
     "name": "stderr",
     "output_type": "stream",
     "text": [
      "Epoch 0:  40%|████      | 203/506 [01:37<02:22,  2.12it/s, loss=10.3]"
     ]
    },
    {
     "name": "stdout",
     "output_type": "stream",
     "text": [
      "tensor([0.1989, 0.1972, 0.1959,  ..., 0.1968, 0.1981, 0.1986], device='cuda:0',\n",
      "       grad_fn=<SqueezeBackward0>)\n"
     ]
    },
    {
     "name": "stderr",
     "output_type": "stream",
     "text": [
      "Epoch 0:  40%|████      | 204/506 [01:37<02:23,  2.11it/s, loss=10.3]"
     ]
    },
    {
     "name": "stdout",
     "output_type": "stream",
     "text": [
      "tensor([0.1949, 0.1970, 0.1993,  ..., 0.1994, 0.1944, 0.1973], device='cuda:0',\n",
      "       grad_fn=<SqueezeBackward0>)\n"
     ]
    },
    {
     "name": "stderr",
     "output_type": "stream",
     "text": [
      "Epoch 0:  41%|████      | 205/506 [01:38<02:20,  2.14it/s, loss=10.3]"
     ]
    },
    {
     "name": "stdout",
     "output_type": "stream",
     "text": [
      "tensor([0.1953, 0.1969, 0.1968,  ..., 0.1983, 0.1950, 0.1975], device='cuda:0',\n",
      "       grad_fn=<SqueezeBackward0>)\n"
     ]
    },
    {
     "name": "stderr",
     "output_type": "stream",
     "text": [
      "Epoch 0:  41%|████      | 206/506 [01:38<02:18,  2.17it/s, loss=10.3]"
     ]
    },
    {
     "name": "stdout",
     "output_type": "stream",
     "text": [
      "tensor([0.1960, 0.1979, 0.1987,  ..., 0.1957, 0.1962, 0.1946], device='cuda:0',\n",
      "       grad_fn=<SqueezeBackward0>)\n"
     ]
    },
    {
     "name": "stderr",
     "output_type": "stream",
     "text": [
      "Epoch 0:  41%|████      | 207/506 [01:39<02:21,  2.11it/s, loss=10.3]"
     ]
    },
    {
     "name": "stdout",
     "output_type": "stream",
     "text": [
      "tensor([0.1960, 0.1991, 0.1967,  ..., 0.1961, 0.1970, 0.1980], device='cuda:0',\n",
      "       grad_fn=<SqueezeBackward0>)\n"
     ]
    },
    {
     "name": "stderr",
     "output_type": "stream",
     "text": [
      "Epoch 0:  41%|████      | 208/506 [01:39<02:22,  2.09it/s, loss=10.3]"
     ]
    },
    {
     "name": "stdout",
     "output_type": "stream",
     "text": [
      "tensor([0.1970, 0.1994, 0.1972,  ..., 0.1978, 0.1967, 0.1968], device='cuda:0',\n",
      "       grad_fn=<SqueezeBackward0>)\n"
     ]
    },
    {
     "name": "stderr",
     "output_type": "stream",
     "text": [
      "Epoch 0:  41%|████▏     | 209/506 [01:40<02:22,  2.08it/s, loss=10.3]"
     ]
    },
    {
     "name": "stdout",
     "output_type": "stream",
     "text": [
      "tensor([0.1966, 0.1964, 0.1965,  ..., 0.1987, 0.1944, 0.1985], device='cuda:0',\n",
      "       grad_fn=<SqueezeBackward0>)\n"
     ]
    },
    {
     "name": "stderr",
     "output_type": "stream",
     "text": [
      "Epoch 0:  42%|████▏     | 210/506 [01:40<02:24,  2.05it/s, loss=10.3]"
     ]
    },
    {
     "name": "stdout",
     "output_type": "stream",
     "text": [
      "tensor([0.1986, 0.1980, 0.1976,  ..., 0.1982, 0.1950, 0.1977], device='cuda:0',\n",
      "       grad_fn=<SqueezeBackward0>)\n"
     ]
    },
    {
     "name": "stderr",
     "output_type": "stream",
     "text": [
      "Epoch 0:  42%|████▏     | 211/506 [01:41<02:22,  2.06it/s, loss=10.3]"
     ]
    },
    {
     "name": "stdout",
     "output_type": "stream",
     "text": [
      "tensor([0.1978, 0.1973, 0.1964,  ..., 0.1979, 0.1976, 0.1978], device='cuda:0',\n",
      "       grad_fn=<SqueezeBackward0>)\n"
     ]
    },
    {
     "name": "stderr",
     "output_type": "stream",
     "text": [
      "Epoch 0:  42%|████▏     | 212/506 [01:41<02:21,  2.08it/s, loss=10.3]"
     ]
    },
    {
     "name": "stdout",
     "output_type": "stream",
     "text": [
      "tensor([0.1980, 0.1970, 0.1951,  ..., 0.1966, 0.1970, 0.1969], device='cuda:0',\n",
      "       grad_fn=<SqueezeBackward0>)\n"
     ]
    },
    {
     "name": "stderr",
     "output_type": "stream",
     "text": [
      "Epoch 0:  42%|████▏     | 213/506 [01:42<02:23,  2.04it/s, loss=10.3]"
     ]
    },
    {
     "name": "stdout",
     "output_type": "stream",
     "text": [
      "tensor([0.1976, 0.1967, 0.1963,  ..., 0.1984, 0.1957, 0.1965], device='cuda:0',\n",
      "       grad_fn=<SqueezeBackward0>)\n"
     ]
    },
    {
     "name": "stderr",
     "output_type": "stream",
     "text": [
      "Epoch 0:  42%|████▏     | 214/506 [01:42<02:22,  2.05it/s, loss=10.3]"
     ]
    },
    {
     "name": "stdout",
     "output_type": "stream",
     "text": [
      "tensor([0.1984, 0.1991, 0.1972,  ..., 0.1952, 0.1997, 0.1960], device='cuda:0',\n",
      "       grad_fn=<SqueezeBackward0>)\n"
     ]
    },
    {
     "name": "stderr",
     "output_type": "stream",
     "text": [
      "Epoch 0:  42%|████▏     | 215/506 [01:43<02:21,  2.05it/s, loss=10.3]"
     ]
    },
    {
     "name": "stdout",
     "output_type": "stream",
     "text": [
      "tensor([0.1965, 0.1963, 0.1972,  ..., 0.1992, 0.1972, 0.1986], device='cuda:0',\n",
      "       grad_fn=<SqueezeBackward0>)\n"
     ]
    },
    {
     "name": "stderr",
     "output_type": "stream",
     "text": [
      "Epoch 0:  43%|████▎     | 216/506 [01:43<02:19,  2.08it/s, loss=10.3]"
     ]
    },
    {
     "name": "stdout",
     "output_type": "stream",
     "text": [
      "tensor([0.1980, 0.1971, 0.1963,  ..., 0.1961, 0.1963, 0.1985], device='cuda:0',\n",
      "       grad_fn=<SqueezeBackward0>)\n"
     ]
    },
    {
     "name": "stderr",
     "output_type": "stream",
     "text": [
      "Epoch 0:  43%|████▎     | 217/506 [01:44<02:18,  2.08it/s, loss=10.3]"
     ]
    },
    {
     "name": "stdout",
     "output_type": "stream",
     "text": [
      "tensor([0.1973, 0.1978, 0.1967,  ..., 0.1957, 0.1963, 0.1966], device='cuda:0',\n",
      "       grad_fn=<SqueezeBackward0>)\n"
     ]
    },
    {
     "name": "stderr",
     "output_type": "stream",
     "text": [
      "Epoch 0:  43%|████▎     | 218/506 [01:44<02:17,  2.10it/s, loss=10.3]"
     ]
    },
    {
     "name": "stdout",
     "output_type": "stream",
     "text": [
      "tensor([0.1980, 0.1968, 0.1962,  ..., 0.1971, 0.1957, 0.1970], device='cuda:0',\n",
      "       grad_fn=<SqueezeBackward0>)\n"
     ]
    },
    {
     "name": "stderr",
     "output_type": "stream",
     "text": [
      "Epoch 0:  43%|████▎     | 219/506 [01:45<02:15,  2.11it/s, loss=10.3]"
     ]
    },
    {
     "name": "stdout",
     "output_type": "stream",
     "text": [
      "tensor([0.1953, 0.1978, 0.1984,  ..., 0.1948, 0.1990, 0.1939], device='cuda:0',\n",
      "       grad_fn=<SqueezeBackward0>)\n"
     ]
    },
    {
     "name": "stderr",
     "output_type": "stream",
     "text": [
      "Epoch 0:  43%|████▎     | 220/506 [01:45<02:16,  2.09it/s, loss=10.3]"
     ]
    },
    {
     "name": "stdout",
     "output_type": "stream",
     "text": [
      "tensor([0.1998, 0.1989, 0.1964,  ..., 0.1969, 0.1948, 0.1972], device='cuda:0',\n",
      "       grad_fn=<SqueezeBackward0>)\n"
     ]
    },
    {
     "name": "stderr",
     "output_type": "stream",
     "text": [
      "Epoch 0:  44%|████▎     | 221/506 [01:46<02:17,  2.07it/s, loss=10.3]"
     ]
    },
    {
     "name": "stdout",
     "output_type": "stream",
     "text": [
      "tensor([0.1990, 0.1967, 0.1959,  ..., 0.1961, 0.1946, 0.1988], device='cuda:0',\n",
      "       grad_fn=<SqueezeBackward0>)\n"
     ]
    },
    {
     "name": "stderr",
     "output_type": "stream",
     "text": [
      "Epoch 0:  44%|████▍     | 222/506 [01:46<02:18,  2.05it/s, loss=10.3]"
     ]
    },
    {
     "name": "stdout",
     "output_type": "stream",
     "text": [
      "tensor([0.1972, 0.1983, 0.1961,  ..., 0.1998, 0.1982, 0.1980], device='cuda:0',\n",
      "       grad_fn=<SqueezeBackward0>)\n"
     ]
    },
    {
     "name": "stderr",
     "output_type": "stream",
     "text": [
      "Epoch 0:  44%|████▍     | 223/506 [01:46<02:17,  2.06it/s, loss=10.3]"
     ]
    },
    {
     "name": "stdout",
     "output_type": "stream",
     "text": [
      "tensor([0.1954, 0.1965, 0.1986,  ..., 0.1993, 0.1975, 0.1966], device='cuda:0',\n",
      "       grad_fn=<SqueezeBackward0>)\n"
     ]
    },
    {
     "name": "stderr",
     "output_type": "stream",
     "text": [
      "Epoch 0:  44%|████▍     | 224/506 [01:47<02:19,  2.02it/s, loss=10.3]"
     ]
    },
    {
     "name": "stdout",
     "output_type": "stream",
     "text": [
      "tensor([0.1955, 0.1948, 0.1968,  ..., 0.1987, 0.1944, 0.1979], device='cuda:0',\n",
      "       grad_fn=<SqueezeBackward0>)\n"
     ]
    },
    {
     "name": "stderr",
     "output_type": "stream",
     "text": [
      "Epoch 0:  44%|████▍     | 225/506 [01:48<02:19,  2.02it/s, loss=10.3]"
     ]
    },
    {
     "name": "stdout",
     "output_type": "stream",
     "text": [
      "tensor([0.1970, 0.1985, 0.1961,  ..., 0.1981, 0.1956, 0.1972], device='cuda:0',\n",
      "       grad_fn=<SqueezeBackward0>)\n"
     ]
    },
    {
     "name": "stderr",
     "output_type": "stream",
     "text": [
      "Epoch 0:  45%|████▍     | 226/506 [01:48<02:17,  2.03it/s, loss=10.3]"
     ]
    },
    {
     "name": "stdout",
     "output_type": "stream",
     "text": [
      "tensor([0.1967, 0.1955, 0.1979,  ..., 0.1943, 0.1985, 0.1974], device='cuda:0',\n",
      "       grad_fn=<SqueezeBackward0>)\n"
     ]
    },
    {
     "name": "stderr",
     "output_type": "stream",
     "text": [
      "Epoch 0:  45%|████▍     | 227/506 [01:49<02:19,  2.00it/s, loss=10.3]"
     ]
    },
    {
     "name": "stdout",
     "output_type": "stream",
     "text": [
      "tensor([0.1959, 0.1968, 0.1995,  ..., 0.1943, 0.1963, 0.1961], device='cuda:0',\n",
      "       grad_fn=<SqueezeBackward0>)\n"
     ]
    },
    {
     "name": "stderr",
     "output_type": "stream",
     "text": [
      "Epoch 0:  45%|████▌     | 228/506 [01:49<02:18,  2.01it/s, loss=10.3]"
     ]
    },
    {
     "name": "stdout",
     "output_type": "stream",
     "text": [
      "tensor([0.1982, 0.1964, 0.1946,  ..., 0.1984, 0.1977, 0.1964], device='cuda:0',\n",
      "       grad_fn=<SqueezeBackward0>)\n"
     ]
    },
    {
     "name": "stderr",
     "output_type": "stream",
     "text": [
      "Epoch 0:  45%|████▌     | 229/506 [01:50<02:19,  1.98it/s, loss=10.3]"
     ]
    },
    {
     "name": "stdout",
     "output_type": "stream",
     "text": [
      "tensor([0.1950, 0.1978, 0.1993,  ..., 0.1944, 0.1994, 0.1962], device='cuda:0',\n",
      "       grad_fn=<SqueezeBackward0>)\n"
     ]
    },
    {
     "name": "stderr",
     "output_type": "stream",
     "text": [
      "Epoch 0:  45%|████▌     | 230/506 [01:50<02:17,  2.01it/s, loss=10.3]"
     ]
    },
    {
     "name": "stdout",
     "output_type": "stream",
     "text": [
      "tensor([0.2004, 0.1956, 0.1952,  ..., 0.1968, 0.1952, 0.1988], device='cuda:0',\n",
      "       grad_fn=<SqueezeBackward0>)\n"
     ]
    },
    {
     "name": "stderr",
     "output_type": "stream",
     "text": [
      "Epoch 0:  46%|████▌     | 231/506 [01:51<02:17,  2.00it/s, loss=10.3]"
     ]
    },
    {
     "name": "stdout",
     "output_type": "stream",
     "text": [
      "tensor([0.1962, 0.1958, 0.1957,  ..., 0.1966, 0.1976, 0.1976], device='cuda:0',\n",
      "       grad_fn=<SqueezeBackward0>)\n"
     ]
    },
    {
     "name": "stderr",
     "output_type": "stream",
     "text": [
      "Epoch 0:  46%|████▌     | 232/506 [01:51<02:17,  1.99it/s, loss=10.3]"
     ]
    },
    {
     "name": "stdout",
     "output_type": "stream",
     "text": [
      "tensor([0.1981, 0.1968, 0.1967,  ..., 0.1968, 0.1954, 0.1990], device='cuda:0',\n",
      "       grad_fn=<SqueezeBackward0>)\n"
     ]
    },
    {
     "name": "stderr",
     "output_type": "stream",
     "text": [
      "Epoch 0:  46%|████▌     | 233/506 [01:51<02:15,  2.02it/s, loss=10.3]"
     ]
    },
    {
     "name": "stdout",
     "output_type": "stream",
     "text": [
      "tensor([0.1966, 0.1969, 0.1961,  ..., 0.1970, 0.1984, 0.1955], device='cuda:0',\n",
      "       grad_fn=<SqueezeBackward0>)\n"
     ]
    },
    {
     "name": "stderr",
     "output_type": "stream",
     "text": [
      "Epoch 0:  46%|████▌     | 234/506 [01:52<02:16,  1.99it/s, loss=10.3]"
     ]
    },
    {
     "name": "stdout",
     "output_type": "stream",
     "text": [
      "tensor([0.1994, 0.1962, 0.1972,  ..., 0.1955, 0.1971, 0.1969], device='cuda:0',\n",
      "       grad_fn=<SqueezeBackward0>)\n"
     ]
    },
    {
     "name": "stderr",
     "output_type": "stream",
     "text": [
      "Epoch 0:  46%|████▋     | 235/506 [01:53<02:16,  1.98it/s, loss=10.3]"
     ]
    },
    {
     "name": "stdout",
     "output_type": "stream",
     "text": [
      "tensor([0.1968, 0.1978, 0.1963,  ..., 0.1941, 0.1986, 0.1943], device='cuda:0',\n",
      "       grad_fn=<SqueezeBackward0>)\n"
     ]
    },
    {
     "name": "stderr",
     "output_type": "stream",
     "text": [
      "Epoch 0:  47%|████▋     | 236/506 [01:53<02:15,  1.99it/s, loss=10.3]"
     ]
    },
    {
     "name": "stdout",
     "output_type": "stream",
     "text": [
      "tensor([0.1967, 0.1966, 0.1968,  ..., 0.1947, 0.1984, 0.1955], device='cuda:0',\n",
      "       grad_fn=<SqueezeBackward0>)\n"
     ]
    },
    {
     "name": "stderr",
     "output_type": "stream",
     "text": [
      "Epoch 0:  47%|████▋     | 237/506 [01:54<02:15,  1.98it/s, loss=10.3]"
     ]
    },
    {
     "name": "stdout",
     "output_type": "stream",
     "text": [
      "tensor([0.1978, 0.1967, 0.1980,  ..., 0.1951, 0.1941, 0.1957], device='cuda:0',\n",
      "       grad_fn=<SqueezeBackward0>)\n"
     ]
    },
    {
     "name": "stderr",
     "output_type": "stream",
     "text": [
      "Epoch 0:  47%|████▋     | 238/506 [01:54<02:13,  2.00it/s, loss=10.3]"
     ]
    },
    {
     "name": "stdout",
     "output_type": "stream",
     "text": [
      "tensor([0.1964, 0.1977, 0.1954,  ..., 0.1983, 0.1989, 0.1979], device='cuda:0',\n",
      "       grad_fn=<SqueezeBackward0>)\n"
     ]
    },
    {
     "name": "stderr",
     "output_type": "stream",
     "text": [
      "Epoch 0:  47%|████▋     | 239/506 [01:55<02:14,  1.99it/s, loss=10.3]"
     ]
    },
    {
     "name": "stdout",
     "output_type": "stream",
     "text": [
      "tensor([0.1970, 0.1941, 0.1981,  ..., 0.1967, 0.1958, 0.1972], device='cuda:0',\n",
      "       grad_fn=<SqueezeBackward0>)\n"
     ]
    },
    {
     "name": "stderr",
     "output_type": "stream",
     "text": [
      "Epoch 0:  47%|████▋     | 240/506 [01:55<02:13,  2.00it/s, loss=10.3]"
     ]
    },
    {
     "name": "stdout",
     "output_type": "stream",
     "text": [
      "tensor([0.1978, 0.1958, 0.1949,  ..., 0.1965, 0.1985, 0.1957], device='cuda:0',\n",
      "       grad_fn=<SqueezeBackward0>)\n"
     ]
    },
    {
     "name": "stderr",
     "output_type": "stream",
     "text": [
      "Epoch 0:  48%|████▊     | 241/506 [01:56<02:11,  2.01it/s, loss=10.3]"
     ]
    },
    {
     "name": "stdout",
     "output_type": "stream",
     "text": [
      "tensor([0.1977, 0.1972, 0.1992,  ..., 0.1950, 0.1979, 0.1977], device='cuda:0',\n",
      "       grad_fn=<SqueezeBackward0>)\n"
     ]
    },
    {
     "name": "stderr",
     "output_type": "stream",
     "text": [
      "Epoch 0:  48%|████▊     | 242/506 [01:56<02:08,  2.05it/s, loss=10.3]"
     ]
    },
    {
     "name": "stdout",
     "output_type": "stream",
     "text": [
      "tensor([0.1970, 0.1980, 0.1965,  ..., 0.1955, 0.1945, 0.1985], device='cuda:0',\n",
      "       grad_fn=<SqueezeBackward0>)\n"
     ]
    },
    {
     "name": "stderr",
     "output_type": "stream",
     "text": [
      "Epoch 0:  48%|████▊     | 243/506 [01:56<02:08,  2.04it/s, loss=10.3]"
     ]
    },
    {
     "name": "stdout",
     "output_type": "stream",
     "text": [
      "tensor([0.1964, 0.1980, 0.1988,  ..., 0.1952, 0.1961, 0.1971], device='cuda:0',\n",
      "       grad_fn=<SqueezeBackward0>)\n"
     ]
    },
    {
     "name": "stderr",
     "output_type": "stream",
     "text": [
      "Epoch 0:  48%|████▊     | 244/506 [01:57<02:07,  2.05it/s, loss=10.3]"
     ]
    },
    {
     "name": "stdout",
     "output_type": "stream",
     "text": [
      "tensor([0.1982, 0.1969, 0.1983,  ..., 0.1947, 0.1978, 0.1973], device='cuda:0',\n",
      "       grad_fn=<SqueezeBackward0>)\n"
     ]
    },
    {
     "name": "stderr",
     "output_type": "stream",
     "text": [
      "Epoch 0:  48%|████▊     | 245/506 [01:57<02:04,  2.09it/s, loss=10.3]"
     ]
    },
    {
     "name": "stdout",
     "output_type": "stream",
     "text": [
      "tensor([0.2021, 0.1956, 0.1942,  ..., 0.1994, 0.1980, 0.1998], device='cuda:0',\n",
      "       grad_fn=<SqueezeBackward0>)\n"
     ]
    },
    {
     "name": "stderr",
     "output_type": "stream",
     "text": [
      "Epoch 0:  49%|████▊     | 246/506 [01:58<02:06,  2.05it/s, loss=10.3]"
     ]
    },
    {
     "name": "stdout",
     "output_type": "stream",
     "text": [
      "tensor([0.1981, 0.1965, 0.1967,  ..., 0.1989, 0.1967, 0.1968], device='cuda:0',\n",
      "       grad_fn=<SqueezeBackward0>)\n"
     ]
    },
    {
     "name": "stderr",
     "output_type": "stream",
     "text": [
      "Epoch 0:  49%|████▉     | 247/506 [01:58<02:06,  2.05it/s, loss=10.3]"
     ]
    },
    {
     "name": "stdout",
     "output_type": "stream",
     "text": [
      "tensor([0.1995, 0.1978, 0.1977,  ..., 0.1974, 0.1974, 0.1972], device='cuda:0',\n",
      "       grad_fn=<SqueezeBackward0>)\n"
     ]
    },
    {
     "name": "stderr",
     "output_type": "stream",
     "text": [
      "Epoch 0:  49%|████▉     | 248/506 [01:59<02:03,  2.08it/s, loss=10.3]"
     ]
    },
    {
     "name": "stdout",
     "output_type": "stream",
     "text": [
      "tensor([0.1961, 0.1968, 0.1969,  ..., 0.1997, 0.1949, 0.1951], device='cuda:0',\n",
      "       grad_fn=<SqueezeBackward0>)\n"
     ]
    },
    {
     "name": "stderr",
     "output_type": "stream",
     "text": [
      "Epoch 0:  49%|████▉     | 249/506 [01:59<02:04,  2.06it/s, loss=10.3]"
     ]
    },
    {
     "name": "stdout",
     "output_type": "stream",
     "text": [
      "tensor([0.1973, 0.1980, 0.1966,  ..., 0.1977, 0.2002, 0.1970], device='cuda:0',\n",
      "       grad_fn=<SqueezeBackward0>)\n"
     ]
    },
    {
     "name": "stderr",
     "output_type": "stream",
     "text": [
      "Epoch 0:  49%|████▉     | 250/506 [02:00<02:03,  2.07it/s, loss=10.3]"
     ]
    },
    {
     "name": "stdout",
     "output_type": "stream",
     "text": [
      "tensor([0.1958, 0.1974, 0.1961,  ..., 0.1981, 0.1960, 0.1960], device='cuda:0',\n",
      "       grad_fn=<SqueezeBackward0>)\n"
     ]
    },
    {
     "name": "stderr",
     "output_type": "stream",
     "text": [
      "Epoch 0:  50%|████▉     | 251/506 [02:00<02:02,  2.08it/s, loss=10.3]"
     ]
    },
    {
     "name": "stdout",
     "output_type": "stream",
     "text": [
      "tensor([0.1978, 0.1966, 0.1966,  ..., 0.1981, 0.1958, 0.1991], device='cuda:0',\n",
      "       grad_fn=<SqueezeBackward0>)\n"
     ]
    },
    {
     "name": "stderr",
     "output_type": "stream",
     "text": [
      "Epoch 0:  50%|████▉     | 252/506 [02:01<02:03,  2.06it/s, loss=10.3]"
     ]
    },
    {
     "name": "stdout",
     "output_type": "stream",
     "text": [
      "tensor([0.1982, 0.1965, 0.1969,  ..., 0.1947, 0.1989, 0.1971], device='cuda:0',\n",
      "       grad_fn=<SqueezeBackward0>)\n"
     ]
    },
    {
     "name": "stderr",
     "output_type": "stream",
     "text": [
      "Epoch 0:  50%|█████     | 253/506 [02:01<02:01,  2.08it/s, loss=10.3]"
     ]
    },
    {
     "name": "stdout",
     "output_type": "stream",
     "text": [
      "tensor([0.1975, 0.1957, 0.1987,  ..., 0.1970, 0.1982, 0.1978], device='cuda:0',\n",
      "       grad_fn=<SqueezeBackward0>)\n"
     ]
    },
    {
     "name": "stderr",
     "output_type": "stream",
     "text": [
      "Epoch 0:  50%|█████     | 254/506 [02:02<02:01,  2.07it/s, loss=10.3]"
     ]
    },
    {
     "name": "stdout",
     "output_type": "stream",
     "text": [
      "tensor([0.1971, 0.1976, 0.1949,  ..., 0.1971, 0.1957, 0.1941], device='cuda:0',\n",
      "       grad_fn=<SqueezeBackward0>)\n"
     ]
    },
    {
     "name": "stderr",
     "output_type": "stream",
     "text": [
      "Epoch 0:  50%|█████     | 255/506 [02:02<02:00,  2.09it/s, loss=10.3]"
     ]
    },
    {
     "name": "stdout",
     "output_type": "stream",
     "text": [
      "tensor([0.1956, 0.1961, 0.1968,  ..., 0.1951, 0.1985, 0.1963], device='cuda:0',\n",
      "       grad_fn=<SqueezeBackward0>)\n"
     ]
    },
    {
     "name": "stderr",
     "output_type": "stream",
     "text": [
      "Epoch 0:  51%|█████     | 256/506 [02:03<02:00,  2.07it/s, loss=10.3]"
     ]
    },
    {
     "name": "stdout",
     "output_type": "stream",
     "text": [
      "tensor([0.1933, 0.1984, 0.1981,  ..., 0.1974, 0.1978, 0.1948], device='cuda:0',\n",
      "       grad_fn=<SqueezeBackward0>)\n"
     ]
    },
    {
     "name": "stderr",
     "output_type": "stream",
     "text": [
      "Epoch 0:  51%|█████     | 257/506 [02:03<01:59,  2.08it/s, loss=10.3]"
     ]
    },
    {
     "name": "stdout",
     "output_type": "stream",
     "text": [
      "tensor([0.1989, 0.1974, 0.1971,  ..., 0.1965, 0.1956, 0.1986], device='cuda:0',\n",
      "       grad_fn=<SqueezeBackward0>)\n"
     ]
    },
    {
     "name": "stderr",
     "output_type": "stream",
     "text": [
      "Epoch 0:  51%|█████     | 258/506 [02:04<01:57,  2.10it/s, loss=10.3]"
     ]
    },
    {
     "name": "stdout",
     "output_type": "stream",
     "text": [
      "tensor([0.1963, 0.1970, 0.1956,  ..., 0.1991, 0.1970, 0.1977], device='cuda:0',\n",
      "       grad_fn=<SqueezeBackward0>)\n"
     ]
    },
    {
     "name": "stderr",
     "output_type": "stream",
     "text": [
      "Epoch 0:  51%|█████     | 259/506 [02:04<01:58,  2.09it/s, loss=10.3]"
     ]
    },
    {
     "name": "stdout",
     "output_type": "stream",
     "text": [
      "tensor([0.1966, 0.1953, 0.1971,  ..., 0.1954, 0.1946, 0.1959], device='cuda:0',\n",
      "       grad_fn=<SqueezeBackward0>)\n"
     ]
    },
    {
     "name": "stderr",
     "output_type": "stream",
     "text": [
      "Epoch 0:  51%|█████▏    | 260/506 [02:05<01:58,  2.08it/s, loss=10.3]"
     ]
    },
    {
     "name": "stdout",
     "output_type": "stream",
     "text": [
      "tensor([0.1971, 0.1978, 0.1982,  ..., 0.1951, 0.1967, 0.1965], device='cuda:0',\n",
      "       grad_fn=<SqueezeBackward0>)\n"
     ]
    },
    {
     "name": "stderr",
     "output_type": "stream",
     "text": [
      "Epoch 0:  52%|█████▏    | 261/506 [02:05<01:56,  2.10it/s, loss=10.3]"
     ]
    },
    {
     "name": "stdout",
     "output_type": "stream",
     "text": [
      "tensor([0.1962, 0.1977, 0.1956,  ..., 0.1995, 0.1951, 0.1973], device='cuda:0',\n",
      "       grad_fn=<SqueezeBackward0>)\n"
     ]
    },
    {
     "name": "stderr",
     "output_type": "stream",
     "text": [
      "Epoch 0:  52%|█████▏    | 262/506 [02:06<01:56,  2.09it/s, loss=10.3]"
     ]
    },
    {
     "name": "stdout",
     "output_type": "stream",
     "text": [
      "tensor([0.1964, 0.1942, 0.1979,  ..., 0.1954, 0.1973, 0.1959], device='cuda:0',\n",
      "       grad_fn=<SqueezeBackward0>)\n"
     ]
    },
    {
     "name": "stderr",
     "output_type": "stream",
     "text": [
      "Epoch 0:  52%|█████▏    | 263/506 [02:06<01:55,  2.10it/s, loss=10.3]"
     ]
    },
    {
     "name": "stdout",
     "output_type": "stream",
     "text": [
      "tensor([0.1972, 0.1957, 0.1974,  ..., 0.1949, 0.1946, 0.1969], device='cuda:0',\n",
      "       grad_fn=<SqueezeBackward0>)\n"
     ]
    },
    {
     "name": "stderr",
     "output_type": "stream",
     "text": [
      "Epoch 0:  52%|█████▏    | 264/506 [02:07<01:54,  2.12it/s, loss=10.3]"
     ]
    },
    {
     "name": "stdout",
     "output_type": "stream",
     "text": [
      "tensor([0.1989, 0.1975, 0.1957,  ..., 0.1975, 0.1962, 0.1989], device='cuda:0',\n",
      "       grad_fn=<SqueezeBackward0>)\n"
     ]
    },
    {
     "name": "stderr",
     "output_type": "stream",
     "text": [
      "Epoch 0:  52%|█████▏    | 265/506 [02:07<01:52,  2.14it/s, loss=10.3]"
     ]
    },
    {
     "name": "stdout",
     "output_type": "stream",
     "text": [
      "tensor([0.1938, 0.1964, 0.1958,  ..., 0.1960, 0.1968, 0.1987], device='cuda:0',\n",
      "       grad_fn=<SqueezeBackward0>)\n"
     ]
    },
    {
     "name": "stderr",
     "output_type": "stream",
     "text": [
      "Epoch 0:  53%|█████▎    | 266/506 [02:07<01:54,  2.09it/s, loss=10.3]"
     ]
    },
    {
     "name": "stdout",
     "output_type": "stream",
     "text": [
      "tensor([0.1963, 0.1971, 0.1987,  ..., 0.1972, 0.1976, 0.1974], device='cuda:0',\n",
      "       grad_fn=<SqueezeBackward0>)\n"
     ]
    },
    {
     "name": "stderr",
     "output_type": "stream",
     "text": [
      "Epoch 0:  53%|█████▎    | 267/506 [02:08<01:54,  2.09it/s, loss=10.3]"
     ]
    },
    {
     "name": "stdout",
     "output_type": "stream",
     "text": [
      "tensor([0.1993, 0.1976, 0.1952,  ..., 0.1995, 0.1968, 0.1987], device='cuda:0',\n",
      "       grad_fn=<SqueezeBackward0>)\n"
     ]
    },
    {
     "name": "stderr",
     "output_type": "stream",
     "text": [
      "Epoch 0:  53%|█████▎    | 268/506 [02:08<01:53,  2.09it/s, loss=10.3]"
     ]
    },
    {
     "name": "stdout",
     "output_type": "stream",
     "text": [
      "tensor([0.1970, 0.1988, 0.1958,  ..., 0.1985, 0.1966, 0.1967], device='cuda:0',\n",
      "       grad_fn=<SqueezeBackward0>)\n"
     ]
    },
    {
     "name": "stderr",
     "output_type": "stream",
     "text": [
      "Epoch 0:  53%|█████▎    | 269/506 [02:09<01:51,  2.12it/s, loss=10.3]"
     ]
    },
    {
     "name": "stdout",
     "output_type": "stream",
     "text": [
      "tensor([0.1972, 0.1977, 0.1966,  ..., 0.1990, 0.1965, 0.1980], device='cuda:0',\n",
      "       grad_fn=<SqueezeBackward0>)\n"
     ]
    },
    {
     "name": "stderr",
     "output_type": "stream",
     "text": [
      "Epoch 0:  53%|█████▎    | 270/506 [02:09<01:52,  2.11it/s, loss=10.3]"
     ]
    },
    {
     "name": "stdout",
     "output_type": "stream",
     "text": [
      "tensor([0.1956, 0.1973, 0.1984,  ..., 0.1960, 0.1950, 0.1973], device='cuda:0',\n",
      "       grad_fn=<SqueezeBackward0>)\n"
     ]
    },
    {
     "name": "stderr",
     "output_type": "stream",
     "text": [
      "Epoch 0:  54%|█████▎    | 271/506 [02:10<01:50,  2.13it/s, loss=10.3]"
     ]
    },
    {
     "name": "stdout",
     "output_type": "stream",
     "text": [
      "tensor([-1.2360,  1.4858,  0.4163,  ...,  2.7071, -1.5817,  0.2006],\n",
      "       device='cuda:0', grad_fn=<SqueezeBackward0>)\n"
     ]
    },
    {
     "name": "stderr",
     "output_type": "stream",
     "text": [
      "Epoch 0:  54%|█████▍    | 272/506 [02:10<01:49,  2.14it/s, loss=9.97]"
     ]
    },
    {
     "name": "stdout",
     "output_type": "stream",
     "text": [
      "tensor([0.1959, 0.1981, 0.1995,  ..., 0.1972, 0.1962, 0.1972], device='cuda:0',\n",
      "       grad_fn=<SqueezeBackward0>)\n"
     ]
    },
    {
     "name": "stderr",
     "output_type": "stream",
     "text": [
      "Epoch 0:  54%|█████▍    | 273/506 [02:11<01:49,  2.13it/s, loss=10.3]"
     ]
    },
    {
     "name": "stdout",
     "output_type": "stream",
     "text": [
      "tensor([0.1945, 0.1979, 0.1971,  ..., 0.1984, 0.1964, 0.1967], device='cuda:0',\n",
      "       grad_fn=<SqueezeBackward0>)\n"
     ]
    },
    {
     "name": "stderr",
     "output_type": "stream",
     "text": [
      "Epoch 0:  54%|█████▍    | 274/506 [02:11<01:48,  2.14it/s, loss=10.3]"
     ]
    },
    {
     "name": "stdout",
     "output_type": "stream",
     "text": [
      "tensor([0.1978, 0.1980, 0.1967,  ..., 0.1962, 0.2000, 0.1968], device='cuda:0',\n",
      "       grad_fn=<SqueezeBackward0>)\n"
     ]
    },
    {
     "name": "stderr",
     "output_type": "stream",
     "text": [
      "Epoch 0:  54%|█████▍    | 275/506 [02:12<01:49,  2.11it/s, loss=10.3]"
     ]
    },
    {
     "name": "stdout",
     "output_type": "stream",
     "text": [
      "tensor([0.1961, 0.1982, 0.1971,  ..., 0.1975, 0.1956, 0.1966], device='cuda:0',\n",
      "       grad_fn=<SqueezeBackward0>)\n"
     ]
    },
    {
     "name": "stderr",
     "output_type": "stream",
     "text": [
      "Epoch 0:  55%|█████▍    | 276/506 [02:12<01:47,  2.14it/s, loss=10.3]"
     ]
    },
    {
     "name": "stdout",
     "output_type": "stream",
     "text": [
      "tensor([0.1957, 0.1965, 0.1971,  ..., 0.1984, 0.1988, 0.1966], device='cuda:0',\n",
      "       grad_fn=<SqueezeBackward0>)\n"
     ]
    },
    {
     "name": "stderr",
     "output_type": "stream",
     "text": [
      "Epoch 0:  55%|█████▍    | 277/506 [02:13<01:46,  2.14it/s, loss=10.3]"
     ]
    },
    {
     "name": "stdout",
     "output_type": "stream",
     "text": [
      "tensor([0.1973, 0.1982, 0.1975,  ..., 0.1965, 0.1950, 0.1957], device='cuda:0',\n",
      "       grad_fn=<SqueezeBackward0>)\n"
     ]
    },
    {
     "name": "stderr",
     "output_type": "stream",
     "text": [
      "Epoch 0:  55%|█████▍    | 278/506 [02:13<01:47,  2.12it/s, loss=10.3]"
     ]
    },
    {
     "name": "stdout",
     "output_type": "stream",
     "text": [
      "tensor([0.1962, 0.1956, 0.1969,  ..., 0.1964, 0.1971, 0.1976], device='cuda:0',\n",
      "       grad_fn=<SqueezeBackward0>)\n"
     ]
    },
    {
     "name": "stderr",
     "output_type": "stream",
     "text": [
      "Epoch 0:  55%|█████▌    | 279/506 [02:14<01:48,  2.08it/s, loss=10.3]"
     ]
    },
    {
     "name": "stdout",
     "output_type": "stream",
     "text": [
      "tensor([0.1948, 0.1952, 0.1979,  ..., 0.1964, 0.1970, 0.1956], device='cuda:0',\n",
      "       grad_fn=<SqueezeBackward0>)\n"
     ]
    },
    {
     "name": "stderr",
     "output_type": "stream",
     "text": [
      "Epoch 0:  55%|█████▌    | 280/506 [02:14<01:48,  2.08it/s, loss=10.3]"
     ]
    },
    {
     "name": "stdout",
     "output_type": "stream",
     "text": [
      "tensor([0.1966, 0.1964, 0.1980,  ..., 0.1949, 0.1982, 0.1976], device='cuda:0',\n",
      "       grad_fn=<SqueezeBackward0>)\n"
     ]
    },
    {
     "name": "stderr",
     "output_type": "stream",
     "text": [
      "Epoch 0:  56%|█████▌    | 281/506 [02:15<01:47,  2.09it/s, loss=10.3]"
     ]
    },
    {
     "name": "stdout",
     "output_type": "stream",
     "text": [
      "tensor([0.1969, 0.1946, 0.1982,  ..., 0.1960, 0.1963, 0.1980], device='cuda:0',\n",
      "       grad_fn=<SqueezeBackward0>)\n"
     ]
    },
    {
     "name": "stderr",
     "output_type": "stream",
     "text": [
      "Epoch 0:  56%|█████▌    | 282/506 [02:15<01:46,  2.10it/s, loss=10.3]"
     ]
    },
    {
     "name": "stdout",
     "output_type": "stream",
     "text": [
      "tensor([0.1984, 0.1967, 0.1962,  ..., 0.1962, 0.1941, 0.1983], device='cuda:0',\n",
      "       grad_fn=<SqueezeBackward0>)\n"
     ]
    },
    {
     "name": "stderr",
     "output_type": "stream",
     "text": [
      "Epoch 0:  56%|█████▌    | 283/506 [02:16<01:45,  2.12it/s, loss=10.3]"
     ]
    },
    {
     "name": "stdout",
     "output_type": "stream",
     "text": [
      "tensor([0.1983, 0.1948, 0.1966,  ..., 0.1963, 0.1984, 0.1977], device='cuda:0',\n",
      "       grad_fn=<SqueezeBackward0>)\n"
     ]
    },
    {
     "name": "stderr",
     "output_type": "stream",
     "text": [
      "Epoch 0:  56%|█████▌    | 284/506 [02:16<01:42,  2.17it/s, loss=10.3]"
     ]
    },
    {
     "name": "stdout",
     "output_type": "stream",
     "text": [
      "tensor([0.1967, 0.1949, 0.1980,  ..., 0.1967, 0.1979, 0.1964], device='cuda:0',\n",
      "       grad_fn=<SqueezeBackward0>)\n"
     ]
    },
    {
     "name": "stderr",
     "output_type": "stream",
     "text": [
      "Epoch 0:  56%|█████▋    | 285/506 [02:16<01:41,  2.18it/s, loss=10.3]"
     ]
    },
    {
     "name": "stdout",
     "output_type": "stream",
     "text": [
      "tensor([0.1969, 0.1972, 0.1982,  ..., 0.1950, 0.1979, 0.1974], device='cuda:0',\n",
      "       grad_fn=<SqueezeBackward0>)\n"
     ]
    },
    {
     "name": "stderr",
     "output_type": "stream",
     "text": [
      "Epoch 0:  57%|█████▋    | 286/506 [02:17<01:43,  2.14it/s, loss=10.3]"
     ]
    },
    {
     "name": "stdout",
     "output_type": "stream",
     "text": [
      "tensor([0.1967, 0.1971, 0.1975,  ..., 0.1972, 0.1966, 0.1957], device='cuda:0',\n",
      "       grad_fn=<SqueezeBackward0>)\n"
     ]
    },
    {
     "name": "stderr",
     "output_type": "stream",
     "text": [
      "Epoch 0:  57%|█████▋    | 287/506 [02:17<01:42,  2.13it/s, loss=10.3]"
     ]
    },
    {
     "name": "stdout",
     "output_type": "stream",
     "text": [
      "tensor([0.1962, 0.1950, 0.1964,  ..., 0.1970, 0.1965, 0.1993], device='cuda:0',\n",
      "       grad_fn=<SqueezeBackward0>)\n"
     ]
    },
    {
     "name": "stderr",
     "output_type": "stream",
     "text": [
      "Epoch 0:  57%|█████▋    | 288/506 [02:18<01:43,  2.10it/s, loss=10.3]"
     ]
    },
    {
     "name": "stdout",
     "output_type": "stream",
     "text": [
      "tensor([0.1955, 0.1965, 0.1974,  ..., 0.1988, 0.1940, 0.1968], device='cuda:0',\n",
      "       grad_fn=<SqueezeBackward0>)\n"
     ]
    },
    {
     "name": "stderr",
     "output_type": "stream",
     "text": [
      "Epoch 0:  57%|█████▋    | 289/506 [02:18<01:44,  2.08it/s, loss=10.3]"
     ]
    },
    {
     "name": "stdout",
     "output_type": "stream",
     "text": [
      "tensor([0.1982, 0.1978, 0.1973,  ..., 0.1965, 0.1968, 0.1980], device='cuda:0',\n",
      "       grad_fn=<SqueezeBackward0>)\n"
     ]
    },
    {
     "name": "stderr",
     "output_type": "stream",
     "text": [
      "Epoch 0:  57%|█████▋    | 290/506 [02:19<01:44,  2.06it/s, loss=10.3]"
     ]
    },
    {
     "name": "stdout",
     "output_type": "stream",
     "text": [
      "tensor([0.1990, 0.1960, 0.1970,  ..., 0.1923, 0.1970, 0.1970], device='cuda:0',\n",
      "       grad_fn=<SqueezeBackward0>)\n"
     ]
    },
    {
     "name": "stderr",
     "output_type": "stream",
     "text": [
      "Epoch 0:  58%|█████▊    | 291/506 [02:19<01:44,  2.06it/s, loss=10.3]"
     ]
    },
    {
     "name": "stdout",
     "output_type": "stream",
     "text": [
      "tensor([0.1959, 0.1968, 0.1968,  ..., 0.1977, 0.1968, 0.1971], device='cuda:0',\n",
      "       grad_fn=<SqueezeBackward0>)\n"
     ]
    },
    {
     "name": "stderr",
     "output_type": "stream",
     "text": [
      "Epoch 0:  58%|█████▊    | 292/506 [02:20<01:42,  2.09it/s, loss=10.3]"
     ]
    },
    {
     "name": "stdout",
     "output_type": "stream",
     "text": [
      "tensor([0.1984, 0.1987, 0.1970,  ..., 0.1967, 0.1943, 0.1963], device='cuda:0',\n",
      "       grad_fn=<SqueezeBackward0>)\n"
     ]
    },
    {
     "name": "stderr",
     "output_type": "stream",
     "text": [
      "Epoch 0:  58%|█████▊    | 293/506 [02:20<01:42,  2.07it/s, loss=10.3]"
     ]
    },
    {
     "name": "stdout",
     "output_type": "stream",
     "text": [
      "tensor([0.1997, 0.1983, 0.1954,  ..., 0.1969, 0.1958, 0.1979], device='cuda:0',\n",
      "       grad_fn=<SqueezeBackward0>)\n"
     ]
    },
    {
     "name": "stderr",
     "output_type": "stream",
     "text": [
      "Epoch 0:  58%|█████▊    | 294/506 [02:21<01:40,  2.10it/s, loss=10.3]"
     ]
    },
    {
     "name": "stdout",
     "output_type": "stream",
     "text": [
      "tensor([0.1972, 0.1988, 0.1969,  ..., 0.1967, 0.1966, 0.1981], device='cuda:0',\n",
      "       grad_fn=<SqueezeBackward0>)\n"
     ]
    },
    {
     "name": "stderr",
     "output_type": "stream",
     "text": [
      "Epoch 0:  58%|█████▊    | 295/506 [02:21<01:39,  2.11it/s, loss=10.3]"
     ]
    },
    {
     "name": "stdout",
     "output_type": "stream",
     "text": [
      "tensor([0.1953, 0.1978, 0.1982,  ..., 0.1941, 0.1998, 0.1946], device='cuda:0',\n",
      "       grad_fn=<SqueezeBackward0>)\n"
     ]
    },
    {
     "name": "stderr",
     "output_type": "stream",
     "text": [
      "Epoch 0:  58%|█████▊    | 296/506 [02:22<01:37,  2.15it/s, loss=10.3]"
     ]
    },
    {
     "name": "stdout",
     "output_type": "stream",
     "text": [
      "tensor([0.1970, 0.1994, 0.1955,  ..., 0.1977, 0.1980, 0.1966], device='cuda:0',\n",
      "       grad_fn=<SqueezeBackward0>)\n"
     ]
    },
    {
     "name": "stderr",
     "output_type": "stream",
     "text": [
      "Epoch 0:  59%|█████▊    | 297/506 [02:22<01:37,  2.15it/s, loss=10.3]"
     ]
    },
    {
     "name": "stdout",
     "output_type": "stream",
     "text": [
      "tensor([0.1989, 0.1983, 0.1968,  ..., 0.1976, 0.1983, 0.1953], device='cuda:0',\n",
      "       grad_fn=<SqueezeBackward0>)\n"
     ]
    },
    {
     "name": "stderr",
     "output_type": "stream",
     "text": [
      "Epoch 0:  59%|█████▉    | 298/506 [02:23<01:36,  2.17it/s, loss=10.3]"
     ]
    },
    {
     "name": "stdout",
     "output_type": "stream",
     "text": [
      "tensor([0.1975, 0.1966, 0.1980,  ..., 0.1942, 0.1972, 0.1958], device='cuda:0',\n",
      "       grad_fn=<SqueezeBackward0>)\n"
     ]
    },
    {
     "name": "stderr",
     "output_type": "stream",
     "text": [
      "Epoch 0:  59%|█████▉    | 299/506 [02:23<01:36,  2.14it/s, loss=10.3]"
     ]
    },
    {
     "name": "stdout",
     "output_type": "stream",
     "text": [
      "tensor([0.1972, 0.1954, 0.1959,  ..., 0.1968, 0.1958, 0.1960], device='cuda:0',\n",
      "       grad_fn=<SqueezeBackward0>)\n"
     ]
    },
    {
     "name": "stderr",
     "output_type": "stream",
     "text": [
      "Epoch 0:  59%|█████▉    | 300/506 [02:24<01:37,  2.11it/s, loss=10.3]"
     ]
    },
    {
     "name": "stdout",
     "output_type": "stream",
     "text": [
      "tensor([0.1955, 0.1965, 0.1999,  ..., 0.1962, 0.1944, 0.2003], device='cuda:0',\n",
      "       grad_fn=<SqueezeBackward0>)\n"
     ]
    },
    {
     "name": "stderr",
     "output_type": "stream",
     "text": [
      "Epoch 0:  59%|█████▉    | 301/506 [02:24<01:38,  2.08it/s, loss=10.3]\n"
     ]
    },
    {
     "ename": "KeyboardInterrupt",
     "evalue": "",
     "output_type": "error",
     "traceback": [
      "\u001b[0;31m---------------------------------------------------------------------------\u001b[0m",
      "\u001b[0;31mKeyboardInterrupt\u001b[0m                         Traceback (most recent call last)",
      "\u001b[1;32m/projects/futhark1/data/wzm289/code/TensorLanguageModel/TNLM.ipynb Cell 18'\u001b[0m in \u001b[0;36m<module>\u001b[0;34m\u001b[0m\n\u001b[1;32m     <a href='vscode-notebook-cell://ssh-remote%2Bfutharkhpa01fl.unicph.domain/projects/futhark1/data/wzm289/code/TensorLanguageModel/TNLM.ipynb#ch0000017vscode-remote?line=12'>13</a>\u001b[0m labels \u001b[39m=\u001b[39m batch[\u001b[39m'\u001b[39m\u001b[39mlabels\u001b[39m\u001b[39m'\u001b[39m]\u001b[39m.\u001b[39mto(device)\n\u001b[1;32m     <a href='vscode-notebook-cell://ssh-remote%2Bfutharkhpa01fl.unicph.domain/projects/futhark1/data/wzm289/code/TensorLanguageModel/TNLM.ipynb#ch0000017vscode-remote?line=13'>14</a>\u001b[0m \u001b[39m# process\u001b[39;00m\n\u001b[0;32m---> <a href='vscode-notebook-cell://ssh-remote%2Bfutharkhpa01fl.unicph.domain/projects/futhark1/data/wzm289/code/TensorLanguageModel/TNLM.ipynb#ch0000017vscode-remote?line=14'>15</a>\u001b[0m logits \u001b[39m=\u001b[39m model(input_ids)\n\u001b[1;32m     <a href='vscode-notebook-cell://ssh-remote%2Bfutharkhpa01fl.unicph.domain/projects/futhark1/data/wzm289/code/TensorLanguageModel/TNLM.ipynb#ch0000017vscode-remote?line=16'>17</a>\u001b[0m loss_fct \u001b[39m=\u001b[39m CrossEntropyLoss()  \u001b[39m# -100 index = padding token\u001b[39;00m\n\u001b[1;32m     <a href='vscode-notebook-cell://ssh-remote%2Bfutharkhpa01fl.unicph.domain/projects/futhark1/data/wzm289/code/TensorLanguageModel/TNLM.ipynb#ch0000017vscode-remote?line=17'>18</a>\u001b[0m \u001b[39mprint\u001b[39m(logits)\n",
      "File \u001b[0;32m~/miniconda3/lib/python3.9/site-packages/torch/nn/modules/module.py:1102\u001b[0m, in \u001b[0;36mModule._call_impl\u001b[0;34m(self, *input, **kwargs)\u001b[0m\n\u001b[1;32m   <a href='file:///~/miniconda3/lib/python3.9/site-packages/torch/nn/modules/module.py?line=1097'>1098</a>\u001b[0m \u001b[39m# If we don't have any hooks, we want to skip the rest of the logic in\u001b[39;00m\n\u001b[1;32m   <a href='file:///~/miniconda3/lib/python3.9/site-packages/torch/nn/modules/module.py?line=1098'>1099</a>\u001b[0m \u001b[39m# this function, and just call forward.\u001b[39;00m\n\u001b[1;32m   <a href='file:///~/miniconda3/lib/python3.9/site-packages/torch/nn/modules/module.py?line=1099'>1100</a>\u001b[0m \u001b[39mif\u001b[39;00m \u001b[39mnot\u001b[39;00m (\u001b[39mself\u001b[39m\u001b[39m.\u001b[39m_backward_hooks \u001b[39mor\u001b[39;00m \u001b[39mself\u001b[39m\u001b[39m.\u001b[39m_forward_hooks \u001b[39mor\u001b[39;00m \u001b[39mself\u001b[39m\u001b[39m.\u001b[39m_forward_pre_hooks \u001b[39mor\u001b[39;00m _global_backward_hooks\n\u001b[1;32m   <a href='file:///~/miniconda3/lib/python3.9/site-packages/torch/nn/modules/module.py?line=1100'>1101</a>\u001b[0m         \u001b[39mor\u001b[39;00m _global_forward_hooks \u001b[39mor\u001b[39;00m _global_forward_pre_hooks):\n\u001b[0;32m-> <a href='file:///~/miniconda3/lib/python3.9/site-packages/torch/nn/modules/module.py?line=1101'>1102</a>\u001b[0m     \u001b[39mreturn\u001b[39;00m forward_call(\u001b[39m*\u001b[39;49m\u001b[39minput\u001b[39;49m, \u001b[39m*\u001b[39;49m\u001b[39m*\u001b[39;49mkwargs)\n\u001b[1;32m   <a href='file:///~/miniconda3/lib/python3.9/site-packages/torch/nn/modules/module.py?line=1102'>1103</a>\u001b[0m \u001b[39m# Do not call functions when jit is used\u001b[39;00m\n\u001b[1;32m   <a href='file:///~/miniconda3/lib/python3.9/site-packages/torch/nn/modules/module.py?line=1103'>1104</a>\u001b[0m full_backward_hooks, non_full_backward_hooks \u001b[39m=\u001b[39m [], []\n",
      "\u001b[1;32m/projects/futhark1/data/wzm289/code/TensorLanguageModel/TNLM.ipynb Cell 3'\u001b[0m in \u001b[0;36mTN.forward\u001b[0;34m(self, x)\u001b[0m\n\u001b[1;32m     <a href='vscode-notebook-cell://ssh-remote%2Bfutharkhpa01fl.unicph.domain/projects/futhark1/data/wzm289/code/TensorLanguageModel/TNLM.ipynb#ch0000002vscode-remote?line=23'>24</a>\u001b[0m \u001b[39mdef\u001b[39;00m \u001b[39mforward\u001b[39m(\u001b[39mself\u001b[39m,x):\n\u001b[0;32m---> <a href='vscode-notebook-cell://ssh-remote%2Bfutharkhpa01fl.unicph.domain/projects/futhark1/data/wzm289/code/TensorLanguageModel/TNLM.ipynb#ch0000002vscode-remote?line=24'>25</a>\u001b[0m     encoded_x \u001b[39m=\u001b[39m \u001b[39mself\u001b[39;49m\u001b[39m.\u001b[39;49mencoding(x)\n\u001b[1;32m     <a href='vscode-notebook-cell://ssh-remote%2Bfutharkhpa01fl.unicph.domain/projects/futhark1/data/wzm289/code/TensorLanguageModel/TNLM.ipynb#ch0000002vscode-remote?line=25'>26</a>\u001b[0m     \u001b[39mreturn\u001b[39;00m \u001b[39mself\u001b[39m\u001b[39m.\u001b[39mlinear(encoded_x)\u001b[39m.\u001b[39msqueeze()\n",
      "\u001b[1;32m/projects/futhark1/data/wzm289/code/TensorLanguageModel/TNLM.ipynb Cell 3'\u001b[0m in \u001b[0;36mTN.encoding\u001b[0;34m(self, x)\u001b[0m\n\u001b[1;32m     <a href='vscode-notebook-cell://ssh-remote%2Bfutharkhpa01fl.unicph.domain/projects/futhark1/data/wzm289/code/TensorLanguageModel/TNLM.ipynb#ch0000002vscode-remote?line=18'>19</a>\u001b[0m         result \u001b[39m=\u001b[39m torch\u001b[39m.\u001b[39meinsum(\u001b[39m\"\u001b[39m\u001b[39mbij,bvjr->bvr\u001b[39m\u001b[39m\"\u001b[39m,[result,\u001b[39mself\u001b[39m\u001b[39m.\u001b[39mmasked_token])\n\u001b[1;32m     <a href='vscode-notebook-cell://ssh-remote%2Bfutharkhpa01fl.unicph.domain/projects/futhark1/data/wzm289/code/TensorLanguageModel/TNLM.ipynb#ch0000002vscode-remote?line=19'>20</a>\u001b[0m     \u001b[39melse\u001b[39;00m:\n\u001b[0;32m---> <a href='vscode-notebook-cell://ssh-remote%2Bfutharkhpa01fl.unicph.domain/projects/futhark1/data/wzm289/code/TensorLanguageModel/TNLM.ipynb#ch0000002vscode-remote?line=20'>21</a>\u001b[0m         result \u001b[39m=\u001b[39m torch\u001b[39m.\u001b[39mnn\u001b[39m.\u001b[39mfunctional\u001b[39m.\u001b[39mnormalize(torch\u001b[39m.\u001b[39;49meinsum(\u001b[39m\"\u001b[39;49m\u001b[39mbij,bjk->bik\u001b[39;49m\u001b[39m\"\u001b[39;49m,[result,encoded[:,i,:,:]]))\n\u001b[1;32m     <a href='vscode-notebook-cell://ssh-remote%2Bfutharkhpa01fl.unicph.domain/projects/futhark1/data/wzm289/code/TensorLanguageModel/TNLM.ipynb#ch0000002vscode-remote?line=21'>22</a>\u001b[0m \u001b[39mreturn\u001b[39;00m result\u001b[39m.\u001b[39msqueeze()\n",
      "File \u001b[0;32m~/miniconda3/lib/python3.9/site-packages/torch/functional.py:325\u001b[0m, in \u001b[0;36meinsum\u001b[0;34m(*args)\u001b[0m\n\u001b[1;32m    <a href='file:///~/miniconda3/lib/python3.9/site-packages/torch/functional.py?line=321'>322</a>\u001b[0m     _operands \u001b[39m=\u001b[39m operands[\u001b[39m0\u001b[39m]\n\u001b[1;32m    <a href='file:///~/miniconda3/lib/python3.9/site-packages/torch/functional.py?line=322'>323</a>\u001b[0m     \u001b[39m# recurse incase operands contains value that has torch function\u001b[39;00m\n\u001b[1;32m    <a href='file:///~/miniconda3/lib/python3.9/site-packages/torch/functional.py?line=323'>324</a>\u001b[0m     \u001b[39m# in the original implementation this line is omitted\u001b[39;00m\n\u001b[0;32m--> <a href='file:///~/miniconda3/lib/python3.9/site-packages/torch/functional.py?line=324'>325</a>\u001b[0m     \u001b[39mreturn\u001b[39;00m einsum(equation, \u001b[39m*\u001b[39;49m_operands)\n\u001b[1;32m    <a href='file:///~/miniconda3/lib/python3.9/site-packages/torch/functional.py?line=326'>327</a>\u001b[0m \u001b[39mreturn\u001b[39;00m _VF\u001b[39m.\u001b[39meinsum(equation, operands)\n",
      "File \u001b[0;32m~/miniconda3/lib/python3.9/site-packages/torch/functional.py:327\u001b[0m, in \u001b[0;36meinsum\u001b[0;34m(*args)\u001b[0m\n\u001b[1;32m    <a href='file:///~/miniconda3/lib/python3.9/site-packages/torch/functional.py?line=322'>323</a>\u001b[0m     \u001b[39m# recurse incase operands contains value that has torch function\u001b[39;00m\n\u001b[1;32m    <a href='file:///~/miniconda3/lib/python3.9/site-packages/torch/functional.py?line=323'>324</a>\u001b[0m     \u001b[39m# in the original implementation this line is omitted\u001b[39;00m\n\u001b[1;32m    <a href='file:///~/miniconda3/lib/python3.9/site-packages/torch/functional.py?line=324'>325</a>\u001b[0m     \u001b[39mreturn\u001b[39;00m einsum(equation, \u001b[39m*\u001b[39m_operands)\n\u001b[0;32m--> <a href='file:///~/miniconda3/lib/python3.9/site-packages/torch/functional.py?line=326'>327</a>\u001b[0m \u001b[39mreturn\u001b[39;00m _VF\u001b[39m.\u001b[39;49meinsum(equation, operands)\n",
      "\u001b[0;31mKeyboardInterrupt\u001b[0m: "
     ]
    }
   ],
   "source": [
    "from tqdm import tqdm  # for our progress bar\n",
    "from torch.nn import CrossEntropyLoss\n",
    "epochs = 2\n",
    "for epoch in range(epochs):\n",
    "    # setup loop with TQDM and dataloader\n",
    "    loop = tqdm(loader, leave=True)\n",
    "    for batch in loop:\n",
    "        # initialize calculated gradients (from prev step)\n",
    "        optim.zero_grad()\n",
    "        # pull all tensor batches required for training\n",
    "        input_ids = batch['input_ids'].to(device)\n",
    "        # attention_mask = batch['attention_mask'].to(device)\n",
    "        labels = batch['labels'].to(device)\n",
    "        # process\n",
    "        logits = model(input_ids)\n",
    "        \n",
    "        loss_fct = CrossEntropyLoss()  # -100 index = padding token\n",
    "        print(logits)\n",
    "        masked_lm_loss = loss_fct(logits.view(-1, model.vocab_size), labels.view(-1))\n",
    "        # extract loss\n",
    "        loss = masked_lm_loss\n",
    "        # calculate loss for every parameter that needs grad update\n",
    "        loss.backward()\n",
    "        # update parameters\n",
    "        optim.step()\n",
    "        # print relevant info to progress bar\n",
    "        loop.set_description(f'Epoch {epoch}')\n",
    "        loop.set_postfix(loss=loss.item())"
   ]
  },
  {
   "cell_type": "code",
   "execution_count": null,
   "metadata": {},
   "outputs": [],
   "source": []
  }
 ],
 "metadata": {
  "interpreter": {
   "hash": "d8ed0073c41b023cdd22b6268c6b3f0c9b6d97a6234cf243afa672a36c79f6c6"
  },
  "kernelspec": {
   "display_name": "Python 3.9.5 ('base')",
   "language": "python",
   "name": "python3"
  },
  "language_info": {
   "codemirror_mode": {
    "name": "ipython",
    "version": 3
   },
   "file_extension": ".py",
   "mimetype": "text/x-python",
   "name": "python",
   "nbconvert_exporter": "python",
   "pygments_lexer": "ipython3",
   "version": "3.9.5"
  },
  "orig_nbformat": 4
 },
 "nbformat": 4,
 "nbformat_minor": 2
}
